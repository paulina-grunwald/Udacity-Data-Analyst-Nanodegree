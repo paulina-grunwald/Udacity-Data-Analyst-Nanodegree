{
 "cells": [
  {
   "cell_type": "markdown",
   "metadata": {},
   "source": [
    "# P1-Test-a-Perceptual-Phenomenon"
   ]
  },
  {
   "cell_type": "markdown",
   "metadata": {},
   "source": [
    "Author: Paulina Grunwald \n",
    "\n",
    "Date: 13/08/2016"
   ]
  },
  {
   "cell_type": "markdown",
   "metadata": {},
   "source": [
    "Background information\n",
    "In a Stroop task, participants are presented with a list of words, with each word displayed in a color of ink. The participant’s task is to say out loud the color of the ink in which the word is printed. The task has two conditions: a congruent words condition, and an incongruent words condition. In the congruent words condition, the words being displayed are color words whose names match the colors in which they are printed: for example <span style=\"color:red\">RED</span>, <span style=\"color:blue\">BLUE</span>. In the incongruent words condition, the words displayed are color words whose names do not match the colors in which they are printed: for example <span style=\"color:purple\">PURPLE</span>, <span style=\"color:orange\">ORANGE</span>. In each case, we measure the time it takes to name the ink colors in equally-sized lists. Each participant will go through and record a time from each condition."
   ]
  },
  {
   "cell_type": "markdown",
   "metadata": {},
   "source": [
    "<img src=\"https://s3-us-west-2.amazonaws.com/s.cdpn.io/333749/stroop_effect.jpg\" width=\"650\">"
   ]
  },
  {
   "cell_type": "markdown",
   "metadata": {},
   "source": [
    "Following data for two sample sets were provided for this research:"
   ]
  },
  {
   "cell_type": "code",
   "execution_count": 1,
   "metadata": {
    "collapsed": true
   },
   "outputs": [],
   "source": [
    "import pandas as pd"
   ]
  },
  {
   "cell_type": "code",
   "execution_count": 5,
   "metadata": {
    "collapsed": false
   },
   "outputs": [
    {
     "data": {
      "text/html": [
       "<div>\n",
       "<table border=\"1\" class=\"dataframe\">\n",
       "  <thead>\n",
       "    <tr style=\"text-align: right;\">\n",
       "      <th></th>\n",
       "      <th>Congruent</th>\n",
       "      <th>Incongruent</th>\n",
       "      <th>Number</th>\n",
       "    </tr>\n",
       "  </thead>\n",
       "  <tbody>\n",
       "    <tr>\n",
       "      <th>0</th>\n",
       "      <td>12.079</td>\n",
       "      <td>19.278</td>\n",
       "      <td>1</td>\n",
       "    </tr>\n",
       "    <tr>\n",
       "      <th>1</th>\n",
       "      <td>16.791</td>\n",
       "      <td>18.741</td>\n",
       "      <td>2</td>\n",
       "    </tr>\n",
       "    <tr>\n",
       "      <th>2</th>\n",
       "      <td>9.564</td>\n",
       "      <td>21.214</td>\n",
       "      <td>3</td>\n",
       "    </tr>\n",
       "    <tr>\n",
       "      <th>3</th>\n",
       "      <td>8.630</td>\n",
       "      <td>15.687</td>\n",
       "      <td>4</td>\n",
       "    </tr>\n",
       "    <tr>\n",
       "      <th>4</th>\n",
       "      <td>14.669</td>\n",
       "      <td>22.803</td>\n",
       "      <td>5</td>\n",
       "    </tr>\n",
       "    <tr>\n",
       "      <th>5</th>\n",
       "      <td>12.238</td>\n",
       "      <td>20.878</td>\n",
       "      <td>6</td>\n",
       "    </tr>\n",
       "    <tr>\n",
       "      <th>6</th>\n",
       "      <td>14.692</td>\n",
       "      <td>24.572</td>\n",
       "      <td>7</td>\n",
       "    </tr>\n",
       "    <tr>\n",
       "      <th>7</th>\n",
       "      <td>8.987</td>\n",
       "      <td>17.394</td>\n",
       "      <td>8</td>\n",
       "    </tr>\n",
       "    <tr>\n",
       "      <th>8</th>\n",
       "      <td>9.401</td>\n",
       "      <td>20.762</td>\n",
       "      <td>9</td>\n",
       "    </tr>\n",
       "    <tr>\n",
       "      <th>9</th>\n",
       "      <td>14.480</td>\n",
       "      <td>26.282</td>\n",
       "      <td>10</td>\n",
       "    </tr>\n",
       "    <tr>\n",
       "      <th>10</th>\n",
       "      <td>22.328</td>\n",
       "      <td>24.524</td>\n",
       "      <td>11</td>\n",
       "    </tr>\n",
       "    <tr>\n",
       "      <th>11</th>\n",
       "      <td>15.298</td>\n",
       "      <td>18.644</td>\n",
       "      <td>12</td>\n",
       "    </tr>\n",
       "    <tr>\n",
       "      <th>12</th>\n",
       "      <td>15.073</td>\n",
       "      <td>17.510</td>\n",
       "      <td>13</td>\n",
       "    </tr>\n",
       "    <tr>\n",
       "      <th>13</th>\n",
       "      <td>16.929</td>\n",
       "      <td>20.330</td>\n",
       "      <td>14</td>\n",
       "    </tr>\n",
       "    <tr>\n",
       "      <th>14</th>\n",
       "      <td>18.200</td>\n",
       "      <td>35.255</td>\n",
       "      <td>15</td>\n",
       "    </tr>\n",
       "    <tr>\n",
       "      <th>15</th>\n",
       "      <td>12.130</td>\n",
       "      <td>22.158</td>\n",
       "      <td>16</td>\n",
       "    </tr>\n",
       "    <tr>\n",
       "      <th>16</th>\n",
       "      <td>18.495</td>\n",
       "      <td>25.139</td>\n",
       "      <td>17</td>\n",
       "    </tr>\n",
       "    <tr>\n",
       "      <th>17</th>\n",
       "      <td>10.639</td>\n",
       "      <td>20.429</td>\n",
       "      <td>18</td>\n",
       "    </tr>\n",
       "    <tr>\n",
       "      <th>18</th>\n",
       "      <td>11.344</td>\n",
       "      <td>17.425</td>\n",
       "      <td>19</td>\n",
       "    </tr>\n",
       "    <tr>\n",
       "      <th>19</th>\n",
       "      <td>12.369</td>\n",
       "      <td>34.288</td>\n",
       "      <td>20</td>\n",
       "    </tr>\n",
       "    <tr>\n",
       "      <th>20</th>\n",
       "      <td>12.944</td>\n",
       "      <td>23.894</td>\n",
       "      <td>21</td>\n",
       "    </tr>\n",
       "    <tr>\n",
       "      <th>21</th>\n",
       "      <td>14.233</td>\n",
       "      <td>17.960</td>\n",
       "      <td>22</td>\n",
       "    </tr>\n",
       "    <tr>\n",
       "      <th>22</th>\n",
       "      <td>19.710</td>\n",
       "      <td>22.058</td>\n",
       "      <td>23</td>\n",
       "    </tr>\n",
       "    <tr>\n",
       "      <th>23</th>\n",
       "      <td>16.004</td>\n",
       "      <td>21.157</td>\n",
       "      <td>24</td>\n",
       "    </tr>\n",
       "  </tbody>\n",
       "</table>\n",
       "</div>"
      ],
      "text/plain": [
       "    Congruent  Incongruent  Number\n",
       "0      12.079       19.278       1\n",
       "1      16.791       18.741       2\n",
       "2       9.564       21.214       3\n",
       "3       8.630       15.687       4\n",
       "4      14.669       22.803       5\n",
       "5      12.238       20.878       6\n",
       "6      14.692       24.572       7\n",
       "7       8.987       17.394       8\n",
       "8       9.401       20.762       9\n",
       "9      14.480       26.282      10\n",
       "10     22.328       24.524      11\n",
       "11     15.298       18.644      12\n",
       "12     15.073       17.510      13\n",
       "13     16.929       20.330      14\n",
       "14     18.200       35.255      15\n",
       "15     12.130       22.158      16\n",
       "16     18.495       25.139      17\n",
       "17     10.639       20.429      18\n",
       "18     11.344       17.425      19\n",
       "19     12.369       34.288      20\n",
       "20     12.944       23.894      21\n",
       "21     14.233       17.960      22\n",
       "22     19.710       22.058      23\n",
       "23     16.004       21.157      24"
      ]
     },
     "execution_count": 5,
     "metadata": {},
     "output_type": "execute_result"
    }
   ],
   "source": [
    "path = r'~/Downloads/stroopdata.csv'\n",
    "dataFrame = pd.read_csv(path)\n",
    "dataFrame['Number'] = dataFrame.index+1\n",
    "dataFrame\n"
   ]
  },
  {
   "cell_type": "markdown",
   "metadata": {},
   "source": [
    "##### 1. What is our independent variable? What is our dependent variable?"
   ]
  },
  {
   "cell_type": "markdown",
   "metadata": {},
   "source": [
    "The *independent* variable is congurency so whether the word name and font color were the same or different. \n",
    "\n",
    "The *dependent* variable is the time it takes to name the ink colors in equally-sized lists."
   ]
  },
  {
   "cell_type": "markdown",
   "metadata": {},
   "source": [
    "###### 2. What is an appropriate set of hypotheses for this task? What kind of statistical test do you expect to perform? Justify your choices."
   ]
  },
  {
   "cell_type": "markdown",
   "metadata": {},
   "source": [
    "Using provided data (and calcuated sample means, standard dev. etc.) i will try to determine if there is enough evidence in the provided data samples to infer whether there is significant difference in population means response time for the congruent words vs. the incongruent words.\n",
    "\n",
    "We can state in the null hypothesis (H<sub>0</sub>) that the population mean response time for Congruent words (µ1) is equal or biger than population mean response time for Incongruent words(µ2). The alternative hypothesis (H<sub>A</sub>) is that the population mean response time for Congruent words(μ1) is smaller than the population mean response time for Incongruent words(μ2).\n",
    "\n",
    "μ1 : population mean response (recognition) time of Congruent words\n",
    "\n",
    "μ2:  population mean response (recognition) time of Incongruent words\n",
    "\n",
    "\n",
    "H<sub>0</sub>:µ1u<html>&#8805;μ2</html> \n",
    "    \n",
    "H<sub>A</sub>: µ1 <html>&lt;</html>μ2\n",
    "\n",
    "<p style=\"text-align: left;\">I will perform the one-tailed, depended t-test for two samples. The reason is that the samples are depended is that each participant in the study will perform under two conditions test - the congruent condition and incongruent one. Moreover, we do not have population parameter given(so we can't use z-test) and the sample size is less than 30. We also assume that data is normally distributed and that subjects were randomly sampled from the population.The purpose of the experiment is to see if the H<sub>0</sub> will be reject or will  fail to be rejected. </p>\n",
    "\n"
   ]
  },
  {
   "cell_type": "markdown",
   "metadata": {},
   "source": [
    "##### 3. Report some descriptive statistics regarding this dataset. Include at least one measure of central tendency and at least one measure of variability."
   ]
  },
  {
   "cell_type": "markdown",
   "metadata": {},
   "source": [
    "Let's calculate number of parameters for  both congurent and incongurent data sets."
   ]
  },
  {
   "cell_type": "code",
   "execution_count": 9,
   "metadata": {
    "collapsed": false,
    "scrolled": true
   },
   "outputs": [
    {
     "data": {
      "text/html": [
       "<div>\n",
       "<table border=\"1\" class=\"dataframe\">\n",
       "  <thead>\n",
       "    <tr style=\"text-align: right;\">\n",
       "      <th></th>\n",
       "      <th>Parameter</th>\n",
       "      <th>Congruent</th>\n",
       "      <th>Incongruent</th>\n",
       "      <th>Difference</th>\n",
       "    </tr>\n",
       "  </thead>\n",
       "  <tbody>\n",
       "    <tr>\n",
       "      <th>0</th>\n",
       "      <td>n</td>\n",
       "      <td>24.00</td>\n",
       "      <td>24.00</td>\n",
       "      <td>24.00</td>\n",
       "    </tr>\n",
       "    <tr>\n",
       "      <th>1</th>\n",
       "      <td>df</td>\n",
       "      <td>23.00</td>\n",
       "      <td>23.00</td>\n",
       "      <td>23.00</td>\n",
       "    </tr>\n",
       "    <tr>\n",
       "      <th>2</th>\n",
       "      <td>Median</td>\n",
       "      <td>14.36</td>\n",
       "      <td>21.02</td>\n",
       "      <td>-6.66</td>\n",
       "    </tr>\n",
       "    <tr>\n",
       "      <th>3</th>\n",
       "      <td>Mean</td>\n",
       "      <td>14.05</td>\n",
       "      <td>22.02</td>\n",
       "      <td>-7.96</td>\n",
       "    </tr>\n",
       "    <tr>\n",
       "      <th>4</th>\n",
       "      <td>Variance</td>\n",
       "      <td>12.67</td>\n",
       "      <td>23.01</td>\n",
       "      <td>23.67</td>\n",
       "    </tr>\n",
       "    <tr>\n",
       "      <th>5</th>\n",
       "      <td>Sample standard dev.</td>\n",
       "      <td>3.56</td>\n",
       "      <td>4.80</td>\n",
       "      <td>4.86</td>\n",
       "    </tr>\n",
       "    <tr>\n",
       "      <th>6</th>\n",
       "      <td>SE</td>\n",
       "      <td>0.73</td>\n",
       "      <td>0.98</td>\n",
       "      <td>0.99</td>\n",
       "    </tr>\n",
       "  </tbody>\n",
       "</table>\n",
       "</div>"
      ],
      "text/plain": [
       "              Parameter  Congruent  Incongruent  Difference\n",
       "0                     n      24.00        24.00       24.00\n",
       "1                    df      23.00        23.00       23.00\n",
       "2                Median      14.36        21.02       -6.66\n",
       "3                  Mean      14.05        22.02       -7.96\n",
       "4              Variance      12.67        23.01       23.67\n",
       "5  Sample standard dev.       3.56         4.80        4.86\n",
       "6                    SE       0.73         0.98        0.99"
      ]
     },
     "execution_count": 9,
     "metadata": {},
     "output_type": "execute_result"
    }
   ],
   "source": [
    "import pandas as pd\n",
    "path = r'~/Desktop/resultsxlsx.csv'\n",
    "dataFrame = pd.read_csv(path)\n",
    "dataFrame\n"
   ]
  },
  {
   "cell_type": "markdown",
   "metadata": {},
   "source": [
    "We have two data set which contains of 24 observations each. Mean response time of Congruent group sample is 14.05 and mean response time of Incongruent group is 22.01.  The standard deviances are 3.56 (congurent) and 4.8 (incongurent). The times in Incongruent group seem to vary more. I have also calculated difference of means of congurent and incongurent data samples as well as standard dev. All the data cab be seen in the table above."
   ]
  },
  {
   "cell_type": "markdown",
   "metadata": {},
   "source": [
    "###### 4. Provide one or two visualizations that show the distribution of the sample data. Write one or two sentences noting what you observe about the plot or plots."
   ]
  },
  {
   "cell_type": "markdown",
   "metadata": {},
   "source": [
    "Below you can find visulatization plots which represent the data of both samples (data not sorted):"
   ]
  },
  {
   "cell_type": "markdown",
   "metadata": {},
   "source": [
    "<img src=\"http://localhost:8888/files/Subjects'%20Congurent%20vs.%20Incongurent%20time.jpg\" width=\"650\">"
   ]
  },
  {
   "cell_type": "markdown",
   "metadata": {},
   "source": [
    "It is visible on the plot that the congruent sample time to finish test ranges between approx. 8 and 22 seconds. The Incongurent sample time to finish test ranges between approx. 15 and 21. We can observe that for subjects in congurent data set average completion time was shorter compared to the Incongruent data sample. Moreover, we can also see two outliders in Incongurent data set (approx. 34 and 35 seconds). "
   ]
  },
  {
   "cell_type": "markdown",
   "metadata": {},
   "source": [
    "Below box plots for both Congurent and Incongurent data sets are presented:\n",
    "\n",
    "\n"
   ]
  },
  {
   "cell_type": "markdown",
   "metadata": {},
   "source": [
    "<img src=\"https://github.com/paulina-grunwald/Udacity-Data-Analyst-Nanodegree/blob/master/Project%201%20-%20Perceptual%20Phenomenon%20Testing/Plots/boxplots.jpg" width=\"650\" >"
   ]
  },
  {
   "cell_type": "markdown",
   "metadata": {},
   "source": [
    "<img src=\"http://localhost:8888/files/histogram2.jpg\" width=\"650\" >"
   ]
  },
  {
   "cell_type": "markdown",
   "metadata": {},
   "source": [
    "The boxplot and histogram show that two samples have significanty different median and ranges.\n",
    "\n",
    "The histograms confirms the previous observation. It also shows (smimilary to box-plot) that incongurent data sample has evident outliers.\n",
    "\n",
    "*Side note: Box plots were created using following website: http://boxplot.tyerslab.com/*"
   ]
  },
  {
   "cell_type": "markdown",
   "metadata": {},
   "source": [
    "##### 5. Now, perform the statistical test and report your results. What is your confidence level and your critical statistic value? Do you reject the null hypothesis or fail to reject it? Come to a conclusion in terms of the experiment task. Did the results match up with your expectations?"
   ]
  },
  {
   "cell_type": "markdown",
   "metadata": {},
   "source": [
    "The Confidence Level i have chosen for this test is 95%. t-critical value for one-tail test (in negative direction) was taken from the [t-table](https://s3.amazonaws.com/udacity-hosted-downloads/t-table.jpg \"t-table\"). I have decided to perform one-tailed test because from the descriptive evaluation and the presented plots we can see that congurent data sample has smaller mean than incongurent data sample which means that in general the reponse times in incongurent group were longer. Now we will test how significat is this difference.\n",
    "\n",
    "Alpha = 0.05\n",
    "\n",
    "df = n - 1 = 24 - 1= 23\n",
    "\n",
    "t critical = - 1.714 (for one-tailed test)\n",
    "\n",
    "\n",
    "\n"
   ]
  },
  {
   "cell_type": "markdown",
   "metadata": {},
   "source": [
    "<img src=\"http://localhost:8888/files/tail%20probability.jpg\" width=\"500\">"
   ]
  },
  {
   "cell_type": "code",
   "execution_count": 20,
   "metadata": {
    "collapsed": false
   },
   "outputs": [
    {
     "data": {
      "text/html": [
       "<div>\n",
       "<table border=\"1\" class=\"dataframe\">\n",
       "  <thead>\n",
       "    <tr style=\"text-align: right;\">\n",
       "      <th></th>\n",
       "      <th>other parameters</th>\n",
       "      <th>value</th>\n",
       "    </tr>\n",
       "  </thead>\n",
       "  <tbody>\n",
       "    <tr>\n",
       "      <th>0</th>\n",
       "      <td>Alpha</td>\n",
       "      <td>0.05</td>\n",
       "    </tr>\n",
       "    <tr>\n",
       "      <th>1</th>\n",
       "      <td>t-statistics</td>\n",
       "      <td>-8.02</td>\n",
       "    </tr>\n",
       "    <tr>\n",
       "      <th>2</th>\n",
       "      <td>at  95% Confidence Level</td>\n",
       "      <td>-1.71</td>\n",
       "    </tr>\n",
       "  </tbody>\n",
       "</table>\n",
       "</div>"
      ],
      "text/plain": [
       "           other parameters  value\n",
       "0                     Alpha   0.05\n",
       "1              t-statistics  -8.02\n",
       "2  at  95% Confidence Level  -1.71"
      ]
     },
     "execution_count": 20,
     "metadata": {},
     "output_type": "execute_result"
    }
   ],
   "source": [
    "import pandas as pd\n",
    "path = r'~/Desktop/dat2.csv'\n",
    "dataFrame = pd.read_csv(path)\n",
    "dataFrame"
   ]
  },
  {
   "cell_type": "markdown",
   "metadata": {},
   "source": [
    "T-statistics value was calculated by dividing calculated mean difference by the SE of difference (-7.96/0.99=-8.02). Since calculated t-statistic is - 8.026 we will **reject** the null hypothesis because it lies in the critical area of 95% confidence level.\n",
    "\n",
    "*Side note: I have also checked if t-statistics would also lie in the critical area if we use 99% confidence level. Since the t-statistics is -8.02 (it's a very small number) with using alpha level of 0.01 the t-statisics would also lie in the critical area. We can conclude that the human brain can recognize faster the color than colored letters of alphabet.*"
   ]
  },
  {
   "cell_type": "markdown",
   "metadata": {},
   "source": [
    "###### 6. Optional: What do you think is responsible for the effects observed? Can you think of an alternative or similar task that would result in a similar effect? Some research about the problem will be helpful for thinking about these two questions!\n"
   ]
  },
  {
   "cell_type": "markdown",
   "metadata": {},
   "source": [
    "I think human brain can regonize colours better bacause it's someting we have learn early in our life - before we start to learn how to read. It is confusing for our brain to process two different information like colour and text.  Moreover. the text and colour are recongized using differnt parts of the brain.\n",
    "\n",
    "Seems like stroop effect can be similar in a way to McGurk effect. The McGurk effect is a perceptual phenomenon that demonstrates an interaction between hearing and vision in speech perception. Interesting representation of this phenomenon is this video: https://www.youtube.com/watch?v=eQoYKuNcCpU. The trick is that we can hear a sound which is paired with the visual image of pronouncing different sound. In this particular video we can hear \"da da da\" with open eyes and \"ba ba ba\".\n"
   ]
  },
  {
   "cell_type": "markdown",
   "metadata": {
    "collapsed": true
   },
   "source": [
    "# References"
   ]
  },
  {
   "cell_type": "markdown",
   "metadata": {},
   "source": [
    "Reference on strop effeect: \n",
    "\n",
    "* http://www.snre.umich.edu/eplab/demos/st0/stroopdesc.html\n",
    "\n",
    "* https://en.wikipedia.org/wiki/Stroop_effect \n",
    "\n",
    "* http://www.psychology-solution.com/mind-games/say-the-colour\n",
    "\n",
    "t-paired test: http://www.statstutor.ac.uk/resources/uploaded/paired-t-test.pdf\n",
    "\n",
    "stroop effect image: https://s3-us-west-2.amazonaws.com/s.cdpn.io/333749/stroop_effect.jpg\n",
    "\n",
    "t-table: https://s3.amazonaws.com/udacity-hosted-downloads/t-table.jpg\n",
    "\n",
    "Box plots were created using following website: http://boxplot.tyerslab.com/\n",
    "\n",
    "McGurk effect: https://en.wikipedia.org/wiki/McGurk_effect\n",
    "\n",
    "Source of video: https://www.youtube.com/watch?v=eQoYKuNcCpU"
   ]
  }
 ],
 "metadata": {
  "anaconda-cloud": {},
  "kernelspec": {
   "display_name": "Python [Root]",
   "language": "python",
   "name": "Python [Root]"
  },
  "language_info": {
   "codemirror_mode": {
    "name": "ipython",
    "version": 2
   },
   "file_extension": ".py",
   "mimetype": "text/x-python",
   "name": "python",
   "nbconvert_exporter": "python",
   "pygments_lexer": "ipython2",
   "version": "2.7.12"
  }
 },
 "nbformat": 4,
 "nbformat_minor": 0
}
