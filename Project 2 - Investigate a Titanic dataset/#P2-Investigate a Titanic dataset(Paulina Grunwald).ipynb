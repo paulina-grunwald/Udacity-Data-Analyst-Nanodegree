{
 "cells": [
  {
   "cell_type": "markdown",
   "metadata": {},
   "source": [
    "# Investigate Titanic Dataset"
   ]
  },
  {
   "cell_type": "markdown",
   "metadata": {},
   "source": [
    "### **1. Introduction**"
   ]
  },
  {
   "cell_type": "markdown",
   "metadata": {},
   "source": [
    "RMS Titanic was a British passenger liner that sank in the North Atlantic Ocean in the early morning of 15 April 1912, after colliding with an iceberg during her maiden voyage from Southampton to New York City. Of the 2,224 passengers and crew aboard, more than 1,500 died in the sinking, making it one of the deadliest commercial peacetime maritime disasters in modern history. \n",
    "Passengers and some crew members were evacuated in lifeboats and many of them were launched only partially loaded. There were not enought lifeboats for all the passangers and due to the ocean water temperature it was not possible to survive long time in the water.\n",
    "\n",
    "As a side note on the night the Titanic sank, the recorded water temperature in the North Atlantic was registered at approx 30 degrees Fahrenheit. Water temperatures between 32 and 40 degrees Fahrenheit cause hypothermia, reducing body temperature below 95 degrees Fahrenheit. Hypothermia results in death within 30 to 90 minutes."
   ]
  },
  {
   "cell_type": "code",
   "execution_count": 546,
   "metadata": {
    "collapsed": false
   },
   "outputs": [
    {
     "data": {
      "text/html": [
       "<img src=\"https://upload.wikimedia.org/wikipedia/commons/e/e1/Titanic_under_construction.jpg\" width=\"500\" height=\"500\" class=\"unconfined\"/>"
      ],
      "text/plain": [
       "<IPython.core.display.Image object>"
      ]
     },
     "execution_count": 546,
     "metadata": {},
     "output_type": "execute_result"
    },
    {
     "name": "stdout",
     "output_type": "stream",
     "text": [
      "\n"
     ]
    }
   ],
   "source": [
    "#Load image from url\n",
    "from IPython.display import Image\n",
    "from IPython.core.display import HTML \n",
    "Image(url= \"https://upload.wikimedia.org/wikipedia/commons/e/e1/Titanic_under_construction.jpg\", width=500, height=500, unconfined=True)"
   ]
  },
  {
   "cell_type": "markdown",
   "metadata": {},
   "source": [
    "### 2. About the dataset\n"
   ]
  },
  {
   "cell_type": "markdown",
   "metadata": {},
   "source": [
    "The dataset of study contains demographics and passenger information from 891 of the 2224 passengers and crew on board the Titanic. The variables included are:"
   ]
  },
  {
   "cell_type": "raw",
   "metadata": {},
   "source": [
    "Source of the data: https://www.kaggle.com/c/titanic\n",
    "\n",
    "VARIABLE DESCRIPTIONS:\n",
    "survival        Survival\n",
    "                (0 = No; 1 = Yes)\n",
    "pclass          Passenger Class\n",
    "                (1 = 1st; 2 = 2nd; 3 = 3rd)            \n",
    "name            Name\n",
    "sex             Sex\n",
    "age             Age\n",
    "sibsp           Number of Siblings/Spouses Aboard\n",
    "parch           Number of Parents/Children Aboard\n",
    "ticket          Ticket Number\n",
    "fare            Passenger Fare\n",
    "cabin           Cabin\n",
    "embarked        Port of Embarkation\n",
    "                (C = Cherbourg; Q = Queenstown; S = Southampton)\n",
    "\n",
    "SPECIAL NOTES:\n",
    "Pclass is a proxy for socio-economic status (SES)\n",
    "* 1st: Upper\n",
    "* 2nd: Middle\n",
    "* 3rd: Lower\n",
    "\n",
    "Age is in Years; Fractional if Age less than One (1) If the Age is Estimated, it is in the form xx.5\n",
    "\n",
    "With respect to the family relation variables (i.e. sibsp and parch) some relations were ignored.  The following are the definitions used for sibsp and parch.\n",
    "\n",
    "Sibling:  Brother, Sister, Stepbrother, or Stepsister of Passenger Aboard Titanic\n",
    "Spouse:   Husband or Wife of Passenger Aboard Titanic (Mistresses and Fiances Ignored)\n",
    "Parent:   Mother or Father of Passenger Aboard Titanic\n",
    "Child:    Son, Daughter, Stepson, or Stepdaughter of Passenger Aboard Titanic\n",
    "\n",
    "Other family relatives excluded from this study include cousins, nephews/nieces, aunts/uncles, and in-laws.  Some children travelled only with a nanny, therefore parch=0 for them.  As well, some travelled with very close friends or neighbors in a village, however, the definitions do not support such relations."
   ]
  },
  {
   "cell_type": "markdown",
   "metadata": {},
   "source": [
    "In this project i will asses which factors had influence on chances of survival of the passangers. In my analysis i will take into the consideration data such as: age, cabin, location where the passanger embarked, sex. After assesing the data i will try to answer following questions?\n",
    "\n",
    "* It's true in this case the phrase 'women and children first'? Did woman and children had higher chance of survival?\n",
    "* Is age contributing to age of survival?\n",
    "* Had first class passengers more chances of survival?\n",
    "* Did the survival chance depended on location of embarkment of the passangers?\n",
    "* Did the survival chance depended on which deck passangers were located?\n",
    "\n"
   ]
  },
  {
   "cell_type": "markdown",
   "metadata": {},
   "source": [
    "### 3. Analysis and data cleaning of the provided data"
   ]
  },
  {
   "cell_type": "markdown",
   "metadata": {},
   "source": [
    "I will start from importing all necesary modules."
   ]
  },
  {
   "cell_type": "markdown",
   "metadata": {},
   "source": [
    "###### 3.1 Data loading"
   ]
  },
  {
   "cell_type": "code",
   "execution_count": 608,
   "metadata": {
    "collapsed": false
   },
   "outputs": [
    {
     "name": "stdout",
     "output_type": "stream",
     "text": [
      "Populating the interactive namespace from numpy and matplotlib\n"
     ]
    }
   ],
   "source": [
    "#importing all required modules\n",
    "import numpy as np\n",
    "import pandas as pd\n",
    "import matplotlib.pyplot as plt\n",
    "import seaborn as sns\n",
    "%pylab inline"
   ]
  },
  {
   "cell_type": "markdown",
   "metadata": {},
   "source": [
    "Provided titanic dataset is in cvs format so i will convert it pandas DataFrame."
   ]
  },
  {
   "cell_type": "code",
   "execution_count": 609,
   "metadata": {
    "collapsed": false
   },
   "outputs": [
    {
     "data": {
      "text/html": [
       "<div>\n",
       "<table border=\"1\" class=\"dataframe\">\n",
       "  <thead>\n",
       "    <tr style=\"text-align: right;\">\n",
       "      <th></th>\n",
       "      <th>PassengerId</th>\n",
       "      <th>Survived</th>\n",
       "      <th>Pclass</th>\n",
       "      <th>Name</th>\n",
       "      <th>Sex</th>\n",
       "      <th>Age</th>\n",
       "      <th>SibSp</th>\n",
       "      <th>Parch</th>\n",
       "      <th>Ticket</th>\n",
       "      <th>Fare</th>\n",
       "      <th>Cabin</th>\n",
       "      <th>Embarked</th>\n",
       "    </tr>\n",
       "  </thead>\n",
       "  <tbody>\n",
       "    <tr>\n",
       "      <th>0</th>\n",
       "      <td>1</td>\n",
       "      <td>0</td>\n",
       "      <td>3</td>\n",
       "      <td>Braund, Mr. Owen Harris</td>\n",
       "      <td>male</td>\n",
       "      <td>22.0</td>\n",
       "      <td>1</td>\n",
       "      <td>0</td>\n",
       "      <td>A/5 21171</td>\n",
       "      <td>7.2500</td>\n",
       "      <td>NaN</td>\n",
       "      <td>S</td>\n",
       "    </tr>\n",
       "    <tr>\n",
       "      <th>1</th>\n",
       "      <td>2</td>\n",
       "      <td>1</td>\n",
       "      <td>1</td>\n",
       "      <td>Cumings, Mrs. John Bradley (Florence Briggs Th...</td>\n",
       "      <td>female</td>\n",
       "      <td>38.0</td>\n",
       "      <td>1</td>\n",
       "      <td>0</td>\n",
       "      <td>PC 17599</td>\n",
       "      <td>71.2833</td>\n",
       "      <td>C85</td>\n",
       "      <td>C</td>\n",
       "    </tr>\n",
       "    <tr>\n",
       "      <th>2</th>\n",
       "      <td>3</td>\n",
       "      <td>1</td>\n",
       "      <td>3</td>\n",
       "      <td>Heikkinen, Miss. Laina</td>\n",
       "      <td>female</td>\n",
       "      <td>26.0</td>\n",
       "      <td>0</td>\n",
       "      <td>0</td>\n",
       "      <td>STON/O2. 3101282</td>\n",
       "      <td>7.9250</td>\n",
       "      <td>NaN</td>\n",
       "      <td>S</td>\n",
       "    </tr>\n",
       "    <tr>\n",
       "      <th>3</th>\n",
       "      <td>4</td>\n",
       "      <td>1</td>\n",
       "      <td>1</td>\n",
       "      <td>Futrelle, Mrs. Jacques Heath (Lily May Peel)</td>\n",
       "      <td>female</td>\n",
       "      <td>35.0</td>\n",
       "      <td>1</td>\n",
       "      <td>0</td>\n",
       "      <td>113803</td>\n",
       "      <td>53.1000</td>\n",
       "      <td>C123</td>\n",
       "      <td>S</td>\n",
       "    </tr>\n",
       "    <tr>\n",
       "      <th>4</th>\n",
       "      <td>5</td>\n",
       "      <td>0</td>\n",
       "      <td>3</td>\n",
       "      <td>Allen, Mr. William Henry</td>\n",
       "      <td>male</td>\n",
       "      <td>35.0</td>\n",
       "      <td>0</td>\n",
       "      <td>0</td>\n",
       "      <td>373450</td>\n",
       "      <td>8.0500</td>\n",
       "      <td>NaN</td>\n",
       "      <td>S</td>\n",
       "    </tr>\n",
       "  </tbody>\n",
       "</table>\n",
       "</div>"
      ],
      "text/plain": [
       "   PassengerId  Survived  Pclass  \\\n",
       "0            1         0       3   \n",
       "1            2         1       1   \n",
       "2            3         1       3   \n",
       "3            4         1       1   \n",
       "4            5         0       3   \n",
       "\n",
       "                                                Name     Sex   Age  SibSp  \\\n",
       "0                            Braund, Mr. Owen Harris    male  22.0      1   \n",
       "1  Cumings, Mrs. John Bradley (Florence Briggs Th...  female  38.0      1   \n",
       "2                             Heikkinen, Miss. Laina  female  26.0      0   \n",
       "3       Futrelle, Mrs. Jacques Heath (Lily May Peel)  female  35.0      1   \n",
       "4                           Allen, Mr. William Henry    male  35.0      0   \n",
       "\n",
       "   Parch            Ticket     Fare Cabin Embarked  \n",
       "0      0         A/5 21171   7.2500   NaN        S  \n",
       "1      0          PC 17599  71.2833   C85        C  \n",
       "2      0  STON/O2. 3101282   7.9250   NaN        S  \n",
       "3      0            113803  53.1000  C123        S  \n",
       "4      0            373450   8.0500   NaN        S  "
      ]
     },
     "execution_count": 609,
     "metadata": {},
     "output_type": "execute_result"
    }
   ],
   "source": [
    "# Read csv into Pandas Dataframe and store in dataset variable\n",
    "titanic_df = pd.read_csv('titanic_data.csv')\n",
    "titanic_df.head()\n"
   ]
  },
  {
   "cell_type": "code",
   "execution_count": 612,
   "metadata": {
    "collapsed": false
   },
   "outputs": [],
   "source": [
    "#Renaming columns to follow CamelCase Python practice \n",
    "titanic_df = titanic_df.rename(columns={\"Parch\":\"ParCh\", \"Pclass\":\"PClass\"})"
   ]
  },
  {
   "cell_type": "markdown",
   "metadata": {},
   "source": [
    "###### 3.2 Assesing data"
   ]
  },
  {
   "cell_type": "code",
   "execution_count": 613,
   "metadata": {
    "collapsed": false
   },
   "outputs": [
    {
     "data": {
      "text/html": [
       "<div>\n",
       "<table border=\"1\" class=\"dataframe\">\n",
       "  <thead>\n",
       "    <tr style=\"text-align: right;\">\n",
       "      <th></th>\n",
       "      <th>PassengerId</th>\n",
       "      <th>Survived</th>\n",
       "      <th>PClass</th>\n",
       "      <th>Age</th>\n",
       "      <th>SibSp</th>\n",
       "      <th>ParCh</th>\n",
       "      <th>Fare</th>\n",
       "    </tr>\n",
       "  </thead>\n",
       "  <tbody>\n",
       "    <tr>\n",
       "      <th>count</th>\n",
       "      <td>891.000000</td>\n",
       "      <td>891.000000</td>\n",
       "      <td>891.000000</td>\n",
       "      <td>714.000000</td>\n",
       "      <td>891.000000</td>\n",
       "      <td>891.000000</td>\n",
       "      <td>891.000000</td>\n",
       "    </tr>\n",
       "    <tr>\n",
       "      <th>mean</th>\n",
       "      <td>446.000000</td>\n",
       "      <td>0.383838</td>\n",
       "      <td>2.308642</td>\n",
       "      <td>29.699118</td>\n",
       "      <td>0.523008</td>\n",
       "      <td>0.381594</td>\n",
       "      <td>32.204208</td>\n",
       "    </tr>\n",
       "    <tr>\n",
       "      <th>std</th>\n",
       "      <td>257.353842</td>\n",
       "      <td>0.486592</td>\n",
       "      <td>0.836071</td>\n",
       "      <td>14.526497</td>\n",
       "      <td>1.102743</td>\n",
       "      <td>0.806057</td>\n",
       "      <td>49.693429</td>\n",
       "    </tr>\n",
       "    <tr>\n",
       "      <th>min</th>\n",
       "      <td>1.000000</td>\n",
       "      <td>0.000000</td>\n",
       "      <td>1.000000</td>\n",
       "      <td>0.420000</td>\n",
       "      <td>0.000000</td>\n",
       "      <td>0.000000</td>\n",
       "      <td>0.000000</td>\n",
       "    </tr>\n",
       "    <tr>\n",
       "      <th>25%</th>\n",
       "      <td>223.500000</td>\n",
       "      <td>0.000000</td>\n",
       "      <td>2.000000</td>\n",
       "      <td>NaN</td>\n",
       "      <td>0.000000</td>\n",
       "      <td>0.000000</td>\n",
       "      <td>7.910400</td>\n",
       "    </tr>\n",
       "    <tr>\n",
       "      <th>50%</th>\n",
       "      <td>446.000000</td>\n",
       "      <td>0.000000</td>\n",
       "      <td>3.000000</td>\n",
       "      <td>NaN</td>\n",
       "      <td>0.000000</td>\n",
       "      <td>0.000000</td>\n",
       "      <td>14.454200</td>\n",
       "    </tr>\n",
       "    <tr>\n",
       "      <th>75%</th>\n",
       "      <td>668.500000</td>\n",
       "      <td>1.000000</td>\n",
       "      <td>3.000000</td>\n",
       "      <td>NaN</td>\n",
       "      <td>1.000000</td>\n",
       "      <td>0.000000</td>\n",
       "      <td>31.000000</td>\n",
       "    </tr>\n",
       "    <tr>\n",
       "      <th>max</th>\n",
       "      <td>891.000000</td>\n",
       "      <td>1.000000</td>\n",
       "      <td>3.000000</td>\n",
       "      <td>80.000000</td>\n",
       "      <td>8.000000</td>\n",
       "      <td>6.000000</td>\n",
       "      <td>512.329200</td>\n",
       "    </tr>\n",
       "  </tbody>\n",
       "</table>\n",
       "</div>"
      ],
      "text/plain": [
       "       PassengerId    Survived      PClass         Age       SibSp  \\\n",
       "count   891.000000  891.000000  891.000000  714.000000  891.000000   \n",
       "mean    446.000000    0.383838    2.308642   29.699118    0.523008   \n",
       "std     257.353842    0.486592    0.836071   14.526497    1.102743   \n",
       "min       1.000000    0.000000    1.000000    0.420000    0.000000   \n",
       "25%     223.500000    0.000000    2.000000         NaN    0.000000   \n",
       "50%     446.000000    0.000000    3.000000         NaN    0.000000   \n",
       "75%     668.500000    1.000000    3.000000         NaN    1.000000   \n",
       "max     891.000000    1.000000    3.000000   80.000000    8.000000   \n",
       "\n",
       "            ParCh        Fare  \n",
       "count  891.000000  891.000000  \n",
       "mean     0.381594   32.204208  \n",
       "std      0.806057   49.693429  \n",
       "min      0.000000    0.000000  \n",
       "25%      0.000000    7.910400  \n",
       "50%      0.000000   14.454200  \n",
       "75%      0.000000   31.000000  \n",
       "max      6.000000  512.329200  "
      ]
     },
     "execution_count": 613,
     "metadata": {},
     "output_type": "execute_result"
    }
   ],
   "source": [
    "#Viewing count and other statistical properties of the titanic dataset\n",
    "titanic_df.describe()"
   ]
  },
  {
   "cell_type": "markdown",
   "metadata": {},
   "source": [
    "From the info function output we can already observe that certain data is missing. I will assess now how much data is missing in different columns and how it will affect the analysis."
   ]
  },
  {
   "cell_type": "markdown",
   "metadata": {},
   "source": [
    "I have also decided to change \"Survived\" column to bolean type. It will make plotting of the data easier in the later stage."
   ]
  },
  {
   "cell_type": "markdown",
   "metadata": {},
   "source": [
    "###### 3.3 Calculating missing data in the dataset"
   ]
  },
  {
   "cell_type": "markdown",
   "metadata": {},
   "source": [
    "Now i will calculate number of missing data:"
   ]
  },
  {
   "cell_type": "code",
   "execution_count": 553,
   "metadata": {
    "collapsed": false
   },
   "outputs": [
    {
     "name": "stdout",
     "output_type": "stream",
     "text": [
      "Total passanger count =  891\n",
      "Available data after removing missing values =  183\n",
      "Missing data (if at least one type of data is missing in the row) =  708\n",
      "Procent of missing data in titanic_df =  79 %\n"
     ]
    }
   ],
   "source": [
    "#Calculating total number of passangers(rows)\n",
    "total_pass = len(titanic_df)\n",
    "print \"Total passanger count = \", total_pass \n",
    "\n",
    "#Removing all the passangers(rows) with missing data\n",
    "cleaned_data =len(titanic_df.dropna())\n",
    "print \"Available data after removing missing values = \", cleaned_data\n",
    "\n",
    "#Calculating numer of passangers with all data available\n",
    "missing = total_pass - cleaned_data\n",
    "print \"Missing data (if at least one type of data is missing in the row) = \", missing\n",
    "\n",
    "#Calculating percentage of missing data\n",
    "percent_misssing_data = (missing * 100) / total_pass\n",
    "print \"Procent of missing data in titanic_df = \", percent_misssing_data, \"%\""
   ]
  },
  {
   "cell_type": "markdown",
   "metadata": {},
   "source": [
    "We can observe that 79% of the data entries in the Titanic dataset are missing. This is quite big procentage of missing data and it will make the analysis of provided dataset more difficoult."
   ]
  },
  {
   "cell_type": "markdown",
   "metadata": {},
   "source": [
    "Now i will asses missing data in each column."
   ]
  },
  {
   "cell_type": "code",
   "execution_count": 554,
   "metadata": {
    "collapsed": false
   },
   "outputs": [
    {
     "name": "stdout",
     "output_type": "stream",
     "text": [
      "Missing Rows in Age = 177\n",
      "Missing Rows in Cabin = 687\n",
      "Missing Rows in Embarked = 2\n",
      "Missing Rows in PClass = 0\n",
      "Missing Rows in Fare = 0\n",
      "Missing Rows in ParCh = 0\n",
      "Missing Rows in SibSp = 0\n"
     ]
    }
   ],
   "source": [
    "#Calculating missing values in each column\n",
    "def missing_data(titanic_df,columnStr):\n",
    "    missing_cabindata_rows = len(titanic_df[columnStr]) - titanic_df[columnStr].count()\n",
    "    return '{} {} = {}'.format('Missing Rows in',columnStr, missing_cabindata_rows)\n",
    "\n",
    "print missing_data(titanic_df,'Age')\n",
    "print missing_data(titanic_df,'Cabin')\n",
    "print missing_data(titanic_df,'Embarked')\n",
    "print missing_data(titanic_df,'PClass')\n",
    "print missing_data(titanic_df,'Fare')\n",
    "print missing_data(titanic_df,'ParCh')\n",
    "print missing_data(titanic_df,'SibSp')\n"
   ]
  },
  {
   "cell_type": "markdown",
   "metadata": {},
   "source": [
    "We can observe that we are missing the most data points in Age and Cabin Column."
   ]
  },
  {
   "cell_type": "markdown",
   "metadata": {},
   "source": [
    "###### 3.4 Creating new DataFrames for columns with missing data"
   ]
  },
  {
   "cell_type": "markdown",
   "metadata": {},
   "source": [
    "Since quite a lot of  data is missing in different columns i have decided to create new dataframe for them after removing all missing rows. I will also create number of different DataFrames. In my opinion this is the best way to make sure that we have maximum number of data points testing different hypothesis. "
   ]
  },
  {
   "cell_type": "markdown",
   "metadata": {},
   "source": [
    "#####  Age of the passangers"
   ]
  },
  {
   "cell_type": "markdown",
   "metadata": {},
   "source": [
    "Below i will try to asses how many rows have no data in Age column."
   ]
  },
  {
   "cell_type": "code",
   "execution_count": 555,
   "metadata": {
    "collapsed": false
   },
   "outputs": [
    {
     "name": "stdout",
     "output_type": "stream",
     "text": [
      "Missing Rows in Age = 177\n"
     ]
    }
   ],
   "source": [
    "#Assesing missing rows in Age column\n",
    "missing_age = missing_data(titanic_df,'Age')\n",
    "print missing_age"
   ]
  },
  {
   "cell_type": "code",
   "execution_count": 556,
   "metadata": {
    "collapsed": false
   },
   "outputs": [
    {
     "name": "stdout",
     "output_type": "stream",
     "text": [
      "Procent of missing Age data in titanic_df =  19 %\n"
     ]
    }
   ],
   "source": [
    "#Calculating percentage of missing data\n",
    "percent_misssing_age_data = (177 * 100) / total_pass\n",
    "print \"Procent of missing Age data in titanic_df = \", percent_misssing_age_data, \"%\""
   ]
  },
  {
   "cell_type": "markdown",
   "metadata": {},
   "source": [
    "There are 177 missing data in row of Age column which represents 19% of total amount of the data."
   ]
  },
  {
   "cell_type": "markdown",
   "metadata": {},
   "source": [
    "Now i will create age Dataframe (after removing rows with missing data)."
   ]
  },
  {
   "cell_type": "code",
   "execution_count": 661,
   "metadata": {
    "collapsed": false
   },
   "outputs": [
    {
     "name": "stdout",
     "output_type": "stream",
     "text": [
      "Records after removing missing ages: 714\n",
      "Records when interpolating ages: 892\n"
     ]
    }
   ],
   "source": [
    "# Create DataFrame with ages handled, remove any missing / use interpolation\n",
    "known_age_passengers = titanic_df[titanic_df[\"Age\"].notnull()]\n",
    "print \"Records after removing missing ages:\", len(known_age_passengers)\n",
    "\n",
    "known_age_passengers_interpolation = titanic_df['Age'].interpolate()\n",
    "print \"Records when interpolating ages:\", len(known_age_passengers_interpolation)"
   ]
  },
  {
   "cell_type": "markdown",
   "metadata": {},
   "source": [
    "##### Cabin"
   ]
  },
  {
   "cell_type": "markdown",
   "metadata": {},
   "source": [
    "Below i will try to asses how many rows have no data in Cabin column."
   ]
  },
  {
   "cell_type": "code",
   "execution_count": 558,
   "metadata": {
    "collapsed": false
   },
   "outputs": [
    {
     "name": "stdout",
     "output_type": "stream",
     "text": [
      "Missing Rows in Cabin = 687\n"
     ]
    }
   ],
   "source": [
    "#Assesing missing rows in Age column\n",
    "print missing_data(titanic_df,'Cabin')"
   ]
  },
  {
   "cell_type": "code",
   "execution_count": 559,
   "metadata": {
    "collapsed": false
   },
   "outputs": [
    {
     "name": "stdout",
     "output_type": "stream",
     "text": [
      "Procent of missing Cabin data in titanic_df =  77 %\n"
     ]
    }
   ],
   "source": [
    "#Calculating percentage of missing data\n",
    "percent_misssing_cabin_data = (687 * 100) / total_pass\n",
    "print \"Procent of missing Cabin data in titanic_df = \", percent_misssing_cabin_data, \"%\""
   ]
  },
  {
   "cell_type": "code",
   "execution_count": 560,
   "metadata": {
    "collapsed": false
   },
   "outputs": [
    {
     "name": "stdout",
     "output_type": "stream",
     "text": [
      "Known cabin passengers count:  204\n"
     ]
    }
   ],
   "source": [
    "# Creating DataFrame with missing Cabin data removed\n",
    "known_cabin_passengers = titanic_df.dropna(subset = [\"Cabin\"])\n",
    "print \"Known cabin passengers count: \", len(known_cabin_passengers)"
   ]
  },
  {
   "cell_type": "code",
   "execution_count": 615,
   "metadata": {
    "collapsed": false
   },
   "outputs": [],
   "source": [
    "#Creating a series containing lists of cabins\n",
    "split_cabins = known_cabin_passengers[\"Cabin\"].str.split(\" \") \n",
    "#Splitting the lists in multiple rows \n",
    "split_cabins = split_cabins.apply(pd.Series, 1).stack() \n",
    "#Deleting the extra index column\n",
    "split_cabins.index = split_cabins.index.droplevel(-1) \n",
    "split_cabins.name = \"Cabin\"\n",
    "\n",
    "#Deleting original cabin column\n",
    "del known_cabin_passengers[\"Cabin\"]\n",
    "#Insert new column\n",
    "known_cabin_passengers = known_cabin_passengers.join(split_cabins) "
   ]
  },
  {
   "cell_type": "code",
   "execution_count": 562,
   "metadata": {
    "collapsed": false
   },
   "outputs": [],
   "source": [
    "decks = known_cabin_passengers[\"Cabin\"].str[0]\n",
    "decks.name = \"Deck\"\n",
    "\n",
    "cabins = known_cabin_passengers[\"Cabin\"].str[1:]\n",
    "cabins.name = \"Cabin\"\n",
    "\n",
    "del known_cabin_passengers[\"Cabin\"]\n",
    "known_cabin_passengers = pd.concat([known_cabin_passengers, decks, cabins], join=\"inner\", axis=1)\n"
   ]
  },
  {
   "cell_type": "code",
   "execution_count": 563,
   "metadata": {
    "collapsed": false
   },
   "outputs": [
    {
     "data": {
      "text/html": [
       "<div>\n",
       "<table border=\"1\" class=\"dataframe\">\n",
       "  <thead>\n",
       "    <tr style=\"text-align: right;\">\n",
       "      <th></th>\n",
       "      <th>PassengerId</th>\n",
       "      <th>Survived</th>\n",
       "      <th>PClass</th>\n",
       "      <th>Name</th>\n",
       "      <th>Sex</th>\n",
       "      <th>Age</th>\n",
       "      <th>SibSp</th>\n",
       "      <th>ParCh</th>\n",
       "      <th>Ticket</th>\n",
       "      <th>Fare</th>\n",
       "      <th>Embarked</th>\n",
       "      <th>Deck</th>\n",
       "      <th>Cabin</th>\n",
       "    </tr>\n",
       "  </thead>\n",
       "  <tbody>\n",
       "    <tr>\n",
       "      <th>1</th>\n",
       "      <td>2</td>\n",
       "      <td>1</td>\n",
       "      <td>1</td>\n",
       "      <td>Cumings, Mrs. John Bradley (Florence Briggs Th...</td>\n",
       "      <td>female</td>\n",
       "      <td>38.0</td>\n",
       "      <td>1</td>\n",
       "      <td>0</td>\n",
       "      <td>PC 17599</td>\n",
       "      <td>71.2833</td>\n",
       "      <td>C</td>\n",
       "      <td>C</td>\n",
       "      <td>85</td>\n",
       "    </tr>\n",
       "    <tr>\n",
       "      <th>3</th>\n",
       "      <td>4</td>\n",
       "      <td>1</td>\n",
       "      <td>1</td>\n",
       "      <td>Futrelle, Mrs. Jacques Heath (Lily May Peel)</td>\n",
       "      <td>female</td>\n",
       "      <td>35.0</td>\n",
       "      <td>1</td>\n",
       "      <td>0</td>\n",
       "      <td>113803</td>\n",
       "      <td>53.1000</td>\n",
       "      <td>S</td>\n",
       "      <td>C</td>\n",
       "      <td>123</td>\n",
       "    </tr>\n",
       "    <tr>\n",
       "      <th>6</th>\n",
       "      <td>7</td>\n",
       "      <td>0</td>\n",
       "      <td>1</td>\n",
       "      <td>McCarthy, Mr. Timothy J</td>\n",
       "      <td>male</td>\n",
       "      <td>54.0</td>\n",
       "      <td>0</td>\n",
       "      <td>0</td>\n",
       "      <td>17463</td>\n",
       "      <td>51.8625</td>\n",
       "      <td>S</td>\n",
       "      <td>E</td>\n",
       "      <td>46</td>\n",
       "    </tr>\n",
       "    <tr>\n",
       "      <th>10</th>\n",
       "      <td>11</td>\n",
       "      <td>1</td>\n",
       "      <td>3</td>\n",
       "      <td>Sandstrom, Miss. Marguerite Rut</td>\n",
       "      <td>female</td>\n",
       "      <td>4.0</td>\n",
       "      <td>1</td>\n",
       "      <td>1</td>\n",
       "      <td>PP 9549</td>\n",
       "      <td>16.7000</td>\n",
       "      <td>S</td>\n",
       "      <td>G</td>\n",
       "      <td>6</td>\n",
       "    </tr>\n",
       "    <tr>\n",
       "      <th>11</th>\n",
       "      <td>12</td>\n",
       "      <td>1</td>\n",
       "      <td>1</td>\n",
       "      <td>Bonnell, Miss. Elizabeth</td>\n",
       "      <td>female</td>\n",
       "      <td>58.0</td>\n",
       "      <td>0</td>\n",
       "      <td>0</td>\n",
       "      <td>113783</td>\n",
       "      <td>26.5500</td>\n",
       "      <td>S</td>\n",
       "      <td>C</td>\n",
       "      <td>103</td>\n",
       "    </tr>\n",
       "  </tbody>\n",
       "</table>\n",
       "</div>"
      ],
      "text/plain": [
       "    PassengerId  Survived  PClass  \\\n",
       "1             2         1       1   \n",
       "3             4         1       1   \n",
       "6             7         0       1   \n",
       "10           11         1       3   \n",
       "11           12         1       1   \n",
       "\n",
       "                                                 Name     Sex   Age  SibSp  \\\n",
       "1   Cumings, Mrs. John Bradley (Florence Briggs Th...  female  38.0      1   \n",
       "3        Futrelle, Mrs. Jacques Heath (Lily May Peel)  female  35.0      1   \n",
       "6                             McCarthy, Mr. Timothy J    male  54.0      0   \n",
       "10                    Sandstrom, Miss. Marguerite Rut  female   4.0      1   \n",
       "11                           Bonnell, Miss. Elizabeth  female  58.0      0   \n",
       "\n",
       "    ParCh    Ticket     Fare Embarked Deck Cabin  \n",
       "1       0  PC 17599  71.2833        C    C    85  \n",
       "3       0    113803  53.1000        S    C   123  \n",
       "6       0     17463  51.8625        S    E    46  \n",
       "10      1   PP 9549  16.7000        S    G     6  \n",
       "11      0    113783  26.5500        S    C   103  "
      ]
     },
     "execution_count": 563,
     "metadata": {},
     "output_type": "execute_result"
    }
   ],
   "source": [
    "#Displaying part of edited dataframe including splited Cabin data\n",
    "known_cabin_passengers.head()"
   ]
  },
  {
   "cell_type": "markdown",
   "metadata": {},
   "source": [
    "##### Port of Embarkation"
   ]
  },
  {
   "cell_type": "code",
   "execution_count": 564,
   "metadata": {
    "collapsed": false
   },
   "outputs": [
    {
     "name": "stdout",
     "output_type": "stream",
     "text": [
      "Missing Rows in Embarked = 2\n"
     ]
    }
   ],
   "source": [
    "#Assesing missing rows in Embarked column\n",
    "print missing_data(titanic_df,'Embarked')"
   ]
  },
  {
   "cell_type": "code",
   "execution_count": 616,
   "metadata": {
    "collapsed": false
   },
   "outputs": [
    {
     "name": "stdout",
     "output_type": "stream",
     "text": [
      "Records after removing missing ports of embarkation: 889\n"
     ]
    }
   ],
   "source": [
    "# Creating DataFrame with Point of Embarkation mising values removed\n",
    "available_embarked_passengers = titanic_df.dropna(subset = ['Embarked'])\n",
    "print \"Records after removing missing ports of embarkation:\", len(available_embarked_passengers)"
   ]
  },
  {
   "cell_type": "markdown",
   "metadata": {},
   "source": [
    "### 4. Exploring dataset"
   ]
  },
  {
   "cell_type": "markdown",
   "metadata": {},
   "source": [
    "Here I adressed the questions I asked in the introduction, and I answered them based on the data, I also made some visualizations to help understanding the given numbers."
   ]
  },
  {
   "cell_type": "markdown",
   "metadata": {},
   "source": [
    "##### 4.1 Exploring age data"
   ]
  },
  {
   "cell_type": "markdown",
   "metadata": {},
   "source": [
    "No i will explore age data. I will start with displaying frequency distribution of age data using histogram."
   ]
  },
  {
   "cell_type": "code",
   "execution_count": 567,
   "metadata": {
    "collapsed": false
   },
   "outputs": [
    {
     "data": {
      "image/png": "[encoded data removed]",
      "text/plain": [
       "<matplotlib.figure.Figure at 0x205be9e8>"
      ]
     },
     "metadata": {},
     "output_type": "display_data"
    }
   ],
   "source": [
    "#Create histrogram of frequency distribution of age data\n",
    "known_age_passengers[\"Age\"].hist(bins=20, color=\"g\", label=\"Passanger count\",)\n",
    "plt.legend(prop={\"size\":15})\n",
    "plt.show()"
   ]
  },
  {
   "cell_type": "code",
   "execution_count": 568,
   "metadata": {
    "collapsed": false
   },
   "outputs": [
    {
     "data": {
      "text/plain": [
       "count    714.000000\n",
       "mean      29.699118\n",
       "std       14.526497\n",
       "min        0.420000\n",
       "25%       20.125000\n",
       "50%       28.000000\n",
       "75%       38.000000\n",
       "max       80.000000\n",
       "Name: Age, dtype: float64"
      ]
     },
     "execution_count": 568,
     "metadata": {},
     "output_type": "execute_result"
    }
   ],
   "source": [
    "#Show statistics of available age data\n",
    "known_age_passengers[\"Age\"].describe()"
   ]
  },
  {
   "cell_type": "markdown",
   "metadata": {},
   "source": [
    "We can conclude following things from above presented table:\n",
    "    * average age of the passangers was 29.6 years with standard deviations of 14.5\n",
    "    * maximum passanger age was 80 years and minimum 3 moths\n",
    "    "
   ]
  },
  {
   "cell_type": "code",
   "execution_count": 659,
   "metadata": {
    "collapsed": false
   },
   "outputs": [
    {
     "data": {
      "text/plain": [
       "<seaborn.axisgrid.FacetGrid at 0x3c5db710>"
      ]
     },
     "execution_count": 659,
     "metadata": {},
     "output_type": "execute_result"
    },
    {
     "data": {
      "image/png": "[encoded data removed]",
      "text/plain": [
       "<matplotlib.figure.Figure at 0x3c5dbbe0>"
      ]
     },
     "metadata": {},
     "output_type": "display_data"
    }
   ],
   "source": [
    "#Assesing if a passanger is less than 18 years old (then consider to be a child)\n",
    "def is_child(passanger):\n",
    "    if passanger < 18:\n",
    "        return 1\n",
    "    else:\n",
    "        return 0\n",
    "\n",
    "#Adding additonal column \"is_child\" in titanic_df Dataframe      \n",
    "titanic_df[\"is_child\"] = pd.Series(titanic_df[\"Age\"].apply(is_child), index=titanic_df.index)\n",
    "\n",
    "#Changing is_child columns to bool type\n",
    "titanic_df.loc[\"is_child\"] = titanic_df[\"is_child\"].astype(bool)\n",
    "\n",
    "#Mapping value 1 to Child and 0 to an Adult\n",
    "titanic_df[\"is_child\"]= titanic_df.is_child.map({1:'Children', 0:'Adults'})\n",
    "\n",
    "#Creating plot of number of children and adults onboard of titanic\n",
    "age_plot = sns.factorplot('is_child', data=titanic_df, kind='count')\n",
    "age_plot.despine(left=True)\n",
    "age_plot.set_ylabels(\"Count of passengers\")\n"
   ]
  },
  {
   "cell_type": "code",
   "execution_count": 660,
   "metadata": {
    "collapsed": false
   },
   "outputs": [
    {
     "data": {
      "text/plain": [
       "Adults      779\n",
       "Children    113\n",
       "Name: is_child, dtype: int64"
      ]
     },
     "execution_count": 660,
     "metadata": {},
     "output_type": "execute_result"
    }
   ],
   "source": [
    "#Number of adults and childrens 1:'Child', 0:'Adult'\n",
    "titanic_df[\"is_child\"].value_counts()"
   ]
  },
  {
   "cell_type": "markdown",
   "metadata": {},
   "source": [
    "There were 779 adults and 113 children onboard of titanic."
   ]
  },
  {
   "cell_type": "markdown",
   "metadata": {},
   "source": [
    "##### 4.2 Exploring sex data"
   ]
  },
  {
   "cell_type": "markdown",
   "metadata": {},
   "source": [
    "Now i will explore Sex data. I will start with displaying statistics of sex data:"
   ]
  },
  {
   "cell_type": "code",
   "execution_count": 572,
   "metadata": {
    "collapsed": false
   },
   "outputs": [
    {
     "data": {
      "text/html": [
       "<div>\n",
       "<table border=\"1\" class=\"dataframe\">\n",
       "  <thead>\n",
       "    <tr style=\"text-align: right;\">\n",
       "      <th></th>\n",
       "      <th></th>\n",
       "      <th>Age</th>\n",
       "      <th>Fare</th>\n",
       "      <th>PClass</th>\n",
       "      <th>ParCh</th>\n",
       "      <th>PassengerId</th>\n",
       "      <th>SibSp</th>\n",
       "      <th>Survived</th>\n",
       "    </tr>\n",
       "    <tr>\n",
       "      <th>Sex</th>\n",
       "      <th></th>\n",
       "      <th></th>\n",
       "      <th></th>\n",
       "      <th></th>\n",
       "      <th></th>\n",
       "      <th></th>\n",
       "      <th></th>\n",
       "      <th></th>\n",
       "    </tr>\n",
       "  </thead>\n",
       "  <tbody>\n",
       "    <tr>\n",
       "      <th rowspan=\"8\" valign=\"top\">female</th>\n",
       "      <th>count</th>\n",
       "      <td>261.000000</td>\n",
       "      <td>314.000000</td>\n",
       "      <td>314.000000</td>\n",
       "      <td>314.000000</td>\n",
       "      <td>314.000000</td>\n",
       "      <td>314.000000</td>\n",
       "      <td>314.000000</td>\n",
       "    </tr>\n",
       "    <tr>\n",
       "      <th>mean</th>\n",
       "      <td>27.915709</td>\n",
       "      <td>44.479818</td>\n",
       "      <td>2.159236</td>\n",
       "      <td>0.649682</td>\n",
       "      <td>431.028662</td>\n",
       "      <td>0.694268</td>\n",
       "      <td>0.742038</td>\n",
       "    </tr>\n",
       "    <tr>\n",
       "      <th>std</th>\n",
       "      <td>14.110146</td>\n",
       "      <td>57.997698</td>\n",
       "      <td>0.857290</td>\n",
       "      <td>1.022846</td>\n",
       "      <td>256.846324</td>\n",
       "      <td>1.156520</td>\n",
       "      <td>0.438211</td>\n",
       "    </tr>\n",
       "    <tr>\n",
       "      <th>min</th>\n",
       "      <td>0.750000</td>\n",
       "      <td>6.750000</td>\n",
       "      <td>1.000000</td>\n",
       "      <td>0.000000</td>\n",
       "      <td>2.000000</td>\n",
       "      <td>0.000000</td>\n",
       "      <td>0.000000</td>\n",
       "    </tr>\n",
       "    <tr>\n",
       "      <th>25%</th>\n",
       "      <td>NaN</td>\n",
       "      <td>12.071875</td>\n",
       "      <td>1.000000</td>\n",
       "      <td>0.000000</td>\n",
       "      <td>231.750000</td>\n",
       "      <td>0.000000</td>\n",
       "      <td>0.000000</td>\n",
       "    </tr>\n",
       "    <tr>\n",
       "      <th>50%</th>\n",
       "      <td>NaN</td>\n",
       "      <td>23.000000</td>\n",
       "      <td>2.000000</td>\n",
       "      <td>0.000000</td>\n",
       "      <td>414.500000</td>\n",
       "      <td>0.000000</td>\n",
       "      <td>1.000000</td>\n",
       "    </tr>\n",
       "    <tr>\n",
       "      <th>75%</th>\n",
       "      <td>NaN</td>\n",
       "      <td>55.000000</td>\n",
       "      <td>3.000000</td>\n",
       "      <td>1.000000</td>\n",
       "      <td>641.250000</td>\n",
       "      <td>1.000000</td>\n",
       "      <td>1.000000</td>\n",
       "    </tr>\n",
       "    <tr>\n",
       "      <th>max</th>\n",
       "      <td>63.000000</td>\n",
       "      <td>512.329200</td>\n",
       "      <td>3.000000</td>\n",
       "      <td>6.000000</td>\n",
       "      <td>889.000000</td>\n",
       "      <td>8.000000</td>\n",
       "      <td>1.000000</td>\n",
       "    </tr>\n",
       "    <tr>\n",
       "      <th rowspan=\"8\" valign=\"top\">male</th>\n",
       "      <th>count</th>\n",
       "      <td>453.000000</td>\n",
       "      <td>577.000000</td>\n",
       "      <td>577.000000</td>\n",
       "      <td>577.000000</td>\n",
       "      <td>577.000000</td>\n",
       "      <td>577.000000</td>\n",
       "      <td>577.000000</td>\n",
       "    </tr>\n",
       "    <tr>\n",
       "      <th>mean</th>\n",
       "      <td>30.726645</td>\n",
       "      <td>25.523893</td>\n",
       "      <td>2.389948</td>\n",
       "      <td>0.235702</td>\n",
       "      <td>454.147314</td>\n",
       "      <td>0.429809</td>\n",
       "      <td>0.188908</td>\n",
       "    </tr>\n",
       "    <tr>\n",
       "      <th>std</th>\n",
       "      <td>14.678201</td>\n",
       "      <td>43.138263</td>\n",
       "      <td>0.813580</td>\n",
       "      <td>0.612294</td>\n",
       "      <td>257.486139</td>\n",
       "      <td>1.061811</td>\n",
       "      <td>0.391775</td>\n",
       "    </tr>\n",
       "    <tr>\n",
       "      <th>min</th>\n",
       "      <td>0.420000</td>\n",
       "      <td>0.000000</td>\n",
       "      <td>1.000000</td>\n",
       "      <td>0.000000</td>\n",
       "      <td>1.000000</td>\n",
       "      <td>0.000000</td>\n",
       "      <td>0.000000</td>\n",
       "    </tr>\n",
       "    <tr>\n",
       "      <th>25%</th>\n",
       "      <td>NaN</td>\n",
       "      <td>7.895800</td>\n",
       "      <td>2.000000</td>\n",
       "      <td>0.000000</td>\n",
       "      <td>222.000000</td>\n",
       "      <td>0.000000</td>\n",
       "      <td>0.000000</td>\n",
       "    </tr>\n",
       "    <tr>\n",
       "      <th>50%</th>\n",
       "      <td>NaN</td>\n",
       "      <td>10.500000</td>\n",
       "      <td>3.000000</td>\n",
       "      <td>0.000000</td>\n",
       "      <td>464.000000</td>\n",
       "      <td>0.000000</td>\n",
       "      <td>0.000000</td>\n",
       "    </tr>\n",
       "    <tr>\n",
       "      <th>75%</th>\n",
       "      <td>NaN</td>\n",
       "      <td>26.550000</td>\n",
       "      <td>3.000000</td>\n",
       "      <td>0.000000</td>\n",
       "      <td>680.000000</td>\n",
       "      <td>0.000000</td>\n",
       "      <td>0.000000</td>\n",
       "    </tr>\n",
       "    <tr>\n",
       "      <th>max</th>\n",
       "      <td>80.000000</td>\n",
       "      <td>512.329200</td>\n",
       "      <td>3.000000</td>\n",
       "      <td>5.000000</td>\n",
       "      <td>891.000000</td>\n",
       "      <td>8.000000</td>\n",
       "      <td>1.000000</td>\n",
       "    </tr>\n",
       "  </tbody>\n",
       "</table>\n",
       "</div>"
      ],
      "text/plain": [
       "                     Age        Fare      PClass       ParCh  PassengerId  \\\n",
       "Sex                                                                         \n",
       "female count  261.000000  314.000000  314.000000  314.000000   314.000000   \n",
       "       mean    27.915709   44.479818    2.159236    0.649682   431.028662   \n",
       "       std     14.110146   57.997698    0.857290    1.022846   256.846324   \n",
       "       min      0.750000    6.750000    1.000000    0.000000     2.000000   \n",
       "       25%           NaN   12.071875    1.000000    0.000000   231.750000   \n",
       "       50%           NaN   23.000000    2.000000    0.000000   414.500000   \n",
       "       75%           NaN   55.000000    3.000000    1.000000   641.250000   \n",
       "       max     63.000000  512.329200    3.000000    6.000000   889.000000   \n",
       "male   count  453.000000  577.000000  577.000000  577.000000   577.000000   \n",
       "       mean    30.726645   25.523893    2.389948    0.235702   454.147314   \n",
       "       std     14.678201   43.138263    0.813580    0.612294   257.486139   \n",
       "       min      0.420000    0.000000    1.000000    0.000000     1.000000   \n",
       "       25%           NaN    7.895800    2.000000    0.000000   222.000000   \n",
       "       50%           NaN   10.500000    3.000000    0.000000   464.000000   \n",
       "       75%           NaN   26.550000    3.000000    0.000000   680.000000   \n",
       "       max     80.000000  512.329200    3.000000    5.000000   891.000000   \n",
       "\n",
       "                   SibSp    Survived  \n",
       "Sex                                   \n",
       "female count  314.000000  314.000000  \n",
       "       mean     0.694268    0.742038  \n",
       "       std      1.156520    0.438211  \n",
       "       min      0.000000    0.000000  \n",
       "       25%      0.000000    0.000000  \n",
       "       50%      0.000000    1.000000  \n",
       "       75%      1.000000    1.000000  \n",
       "       max      8.000000    1.000000  \n",
       "male   count  577.000000  577.000000  \n",
       "       mean     0.429809    0.188908  \n",
       "       std      1.061811    0.391775  \n",
       "       min      0.000000    0.000000  \n",
       "       25%      0.000000    0.000000  \n",
       "       50%      0.000000    0.000000  \n",
       "       75%      0.000000    0.000000  \n",
       "       max      8.000000    1.000000  "
      ]
     },
     "execution_count": 572,
     "metadata": {},
     "output_type": "execute_result"
    }
   ],
   "source": [
    "# Group series \n",
    "passengers_by_sex = titanic_df.groupby(\"Sex\")\n",
    "#Generate various summary statistics of 'Sex' data\n",
    "passengers_by_sex.describe()"
   ]
  },
  {
   "cell_type": "code",
   "execution_count": 636,
   "metadata": {
    "collapsed": false
   },
   "outputs": [
    {
     "data": {
      "text/plain": [
       "[<matplotlib.text.Text at 0x4d6f3588>, <matplotlib.text.Text at 0x4d610d68>]"
      ]
     },
     "execution_count": 636,
     "metadata": {},
     "output_type": "execute_result"
    },
    {
     "data": {
      "image/png": "[encoded data removed]",
      "text/plain": [
       "<matplotlib.figure.Figure at 0x11fb9c50>"
      ]
     },
     "metadata": {},
     "output_type": "display_data"
    }
   ],
   "source": [
    "#Creating plot of number of male and female onboard of Titanic\n",
    "titanic_class = sns.countplot(x=\"Sex\", data=titanic_df)\n",
    "titanic_class.set(xlabel='Sex', ylabel='Number of passengers')\n"
   ]
  },
  {
   "cell_type": "code",
   "execution_count": 641,
   "metadata": {
    "collapsed": false
   },
   "outputs": [],
   "source": [
    "# group the passengers that survived by gender\n",
    "passengers_by_sex = titanic_df.groupby(\"Sex\") \n",
    "# find total number of survived by gender\n",
    "total = passengers_by_sex[\"Survived\"].count()\n"
   ]
  },
  {
   "cell_type": "code",
   "execution_count": 635,
   "metadata": {
    "collapsed": false
   },
   "outputs": [
    {
     "name": "stdout",
     "output_type": "stream",
     "text": [
      "There were  314 females and 577 males onboard of Titanic ship.\n"
     ]
    }
   ],
   "source": [
    "print \"There were \",total[\"female\"], \"females and\", total[\"male\"], \"males onboard of Titanic ship.\""
   ]
  },
  {
   "cell_type": "markdown",
   "metadata": {},
   "source": [
    "From the analysis of the sex data we can conclude that females had higher chance to survive Titanic catastrophe."
   ]
  },
  {
   "cell_type": "markdown",
   "metadata": {},
   "source": [
    "##### 4.3 Exploring class data"
   ]
  },
  {
   "cell_type": "markdown",
   "metadata": {},
   "source": [
    "There were 3 classes of passangers on Titanic vessel. The Titanic's first class passenger list was a \"who's who\" of the rich and prominent of the upper class in 1912. Second classes passengers were leisure tourists, academics, members of the clergy and middle class English and American families. The third class passengers or steerage passengers left hoping to start new lives in the United States and Canada. "
   ]
  },
  {
   "cell_type": "markdown",
   "metadata": {},
   "source": [
    "Image below shows location of each class on the vessel:\n",
    "    * 1st Class: blue\n",
    "    * 2nd Class: yellow\n",
    "    * 3rd class: red"
   ]
  },
  {
   "cell_type": "code",
   "execution_count": 577,
   "metadata": {
    "collapsed": false
   },
   "outputs": [
    {
     "data": {
      "text/html": [
       "<img src=\"http://img07.deviantart.net/af19/i/2014/307/c/f/r_m_s__titanic_class_system_by_monroegerman-d787jna.png\" width=\"900\" height=\"900\" class=\"unconfined\"/>"
      ],
      "text/plain": [
       "<IPython.core.display.Image object>"
      ]
     },
     "execution_count": 577,
     "metadata": {},
     "output_type": "execute_result"
    }
   ],
   "source": [
    "#Load image from url\n",
    "Image(url= \"http://img07.deviantart.net/af19/i/2014/307/c/f/r_m_s__titanic_class_system_by_monroegerman-d787jna.png\", width=900, height=900, unconfined=True)"
   ]
  },
  {
   "cell_type": "code",
   "execution_count": 578,
   "metadata": {
    "collapsed": false
   },
   "outputs": [
    {
     "data": {
      "text/plain": [
       "<seaborn.axisgrid.FacetGrid at 0x51ca2fd0>"
      ]
     },
     "execution_count": 578,
     "metadata": {},
     "output_type": "execute_result"
    },
    {
     "data": {
      "image/png": "[encoded data removed]",
      "text/plain": [
       "<matplotlib.figure.Figure at 0x51d1c898>"
      ]
     },
     "metadata": {},
     "output_type": "display_data"
    }
   ],
   "source": [
    "#Create histogram showing passanger count by class\n",
    "class_plot = sns.factorplot('PClass', order=[1,2,3], data=titanic_df, kind='count')\n",
    "class_plot.despine(left=True)\n",
    "class_plot.set_ylabels(\"Count of passengers\")"
   ]
  },
  {
   "cell_type": "code",
   "execution_count": 579,
   "metadata": {
    "collapsed": false
   },
   "outputs": [
    {
     "data": {
      "text/plain": [
       "3.0    491\n",
       "1.0    216\n",
       "2.0    184\n",
       "Name: PClass, dtype: int64"
      ]
     },
     "execution_count": 579,
     "metadata": {},
     "output_type": "execute_result"
    }
   ],
   "source": [
    "#Display passanger count by Class\n",
    "titanic_df[\"PClass\"].value_counts()\n"
   ]
  },
  {
   "cell_type": "markdown",
   "metadata": {},
   "source": [
    "We can observe that majority of passanger were 3rd class passangers."
   ]
  },
  {
   "cell_type": "code",
   "execution_count": 662,
   "metadata": {
    "collapsed": false
   },
   "outputs": [
    {
     "data": {
      "text/plain": [
       "<seaborn.axisgrid.FacetGrid at 0x1fe6ef98>"
      ]
     },
     "execution_count": 662,
     "metadata": {},
     "output_type": "execute_result"
    },
    {
     "data": {
      "image/png": "[encoded data removed]",
      "text/plain": [
       "<matplotlib.figure.Figure at 0x1fef2278>"
      ]
     },
     "metadata": {},
     "output_type": "display_data"
    }
   ],
   "source": [
    "\n",
    "#Create histogram showing passanger count by class\n",
    "class_plot = sns.factorplot('PClass', order=[1,2,3], hue = \"Sex\", data=titanic_df, kind='count')\n",
    "class_plot.despine(left=True)\n",
    "class_plot.set(xlabel='PClass', ylabel='Number of passengers')"
   ]
  },
  {
   "cell_type": "code",
   "execution_count": 663,
   "metadata": {
    "collapsed": false
   },
   "outputs": [
    {
     "data": {
      "text/plain": [
       "[<matplotlib.text.Text at 0x2aab2cf8>, <matplotlib.text.Text at 0x2aaa2eb8>]"
      ]
     },
     "execution_count": 663,
     "metadata": {},
     "output_type": "execute_result"
    },
    {
     "data": {
      "image/png": "[encoded data removed]",
      "text/plain": [
       "<matplotlib.figure.Figure at 0x205becf8>"
      ]
     },
     "metadata": {},
     "output_type": "display_data"
    }
   ],
   "source": [
    "titanic_class = sns.countplot(x=\"PClass\", hue=\"is_child\", data=titanic_df)\n",
    "titanic_class.set(xlabel='PClass', ylabel='Number of passengers')"
   ]
  },
  {
   "cell_type": "markdown",
   "metadata": {},
   "source": [
    "We can see that a lot more men were on the third class."
   ]
  },
  {
   "cell_type": "markdown",
   "metadata": {},
   "source": [
    "##### 4.4 Exploring Embarked data"
   ]
  },
  {
   "cell_type": "code",
   "execution_count": 664,
   "metadata": {
    "collapsed": false
   },
   "outputs": [
    {
     "data": {
      "text/plain": [
       "<seaborn.axisgrid.FacetGrid at 0x4a249128>"
      ]
     },
     "execution_count": 664,
     "metadata": {},
     "output_type": "execute_result"
    },
    {
     "data": {
      "image/png": "[encoded data removed]",
      "text/plain": [
       "<matplotlib.figure.Figure at 0x4a1fcb38>"
      ]
     },
     "metadata": {},
     "output_type": "display_data"
    }
   ],
   "source": [
    "##Create histogam which shows number passangers by Embarked location\n",
    "embarked_plot = sns.factorplot('Embarked', data = available_embarked_passengers, kind='count')\n",
    "embarked_plot.despine(left=True)\n",
    "embarked_plot.set_ylabels(\"Count of passengers\")\n"
   ]
  },
  {
   "cell_type": "code",
   "execution_count": 665,
   "metadata": {
    "collapsed": false
   },
   "outputs": [
    {
     "data": {
      "text/plain": [
       "<seaborn.axisgrid.FacetGrid at 0x4c3e29b0>"
      ]
     },
     "execution_count": 665,
     "metadata": {},
     "output_type": "execute_result"
    },
    {
     "data": {
      "image/png": "[encoded data removed]",
      "text/plain": [
       "<matplotlib.figure.Figure at 0x4c3e29e8>"
      ]
     },
     "metadata": {},
     "output_type": "display_data"
    }
   ],
   "source": [
    "embarked_plot = sns.factorplot('Embarked', hue = \"PClass\", data=available_embarked_passengers, kind='count')\n",
    "embarked_plot.despine(left=True)\n",
    "embarked_plot.set_ylabels(\"Count of passengers\")"
   ]
  },
  {
   "cell_type": "code",
   "execution_count": 587,
   "metadata": {
    "collapsed": false
   },
   "outputs": [
    {
     "data": {
      "text/plain": [
       "<seaborn.axisgrid.FacetGrid at 0x1204d4a8>"
      ]
     },
     "execution_count": 587,
     "metadata": {},
     "output_type": "execute_result"
    },
    {
     "data": {
      "image/png": "[encoded data removed]",
      "text/plain": [
       "<matplotlib.figure.Figure at 0x174275f8>"
      ]
     },
     "metadata": {},
     "output_type": "display_data"
    }
   ],
   "source": [
    "embarked_plot = sns.factorplot('Embarked', hue = \"is_child\", data=titanic_df, kind='count')\n",
    "embarked_plot.despine(left=True)\n",
    "embarked_plot.set_ylabels(\"Count of passengers\")\n"
   ]
  },
  {
   "cell_type": "code",
   "execution_count": 588,
   "metadata": {
    "collapsed": false
   },
   "outputs": [
    {
     "data": {
      "text/plain": [
       "S    644\n",
       "C    168\n",
       "Q     77\n",
       "Name: Embarked, dtype: int64"
      ]
     },
     "execution_count": 588,
     "metadata": {},
     "output_type": "execute_result"
    }
   ],
   "source": [
    "#Display passanger count by Embarked location\n",
    "available_embarked_passengers[\"Embarked\"].value_counts()"
   ]
  },
  {
   "cell_type": "code",
   "execution_count": 666,
   "metadata": {
    "collapsed": false
   },
   "outputs": [
    {
     "data": {
      "text/plain": [
       "<seaborn.axisgrid.FacetGrid at 0x4a06cc88>"
      ]
     },
     "execution_count": 666,
     "metadata": {},
     "output_type": "execute_result"
    },
    {
     "data": {
      "image/png": "[encoded data removed]",
      "text/plain": [
       "<matplotlib.figure.Figure at 0x2591cb38>"
      ]
     },
     "metadata": {},
     "output_type": "display_data"
    }
   ],
   "source": [
    "embarked_plot = sns.factorplot('Embarked', hue = \"PClass\", data=titanic_df, kind='count')\n",
    "embarked_plot.despine(left=True)\n",
    "embarked_plot.set_ylabels(\"Count of passengers\")"
   ]
  },
  {
   "cell_type": "markdown",
   "metadata": {},
   "source": [
    "## 5. Survival estimation  for passangers using  Age, Gender, PClass, Embarked, Deck data"
   ]
  },
  {
   "cell_type": "markdown",
   "metadata": {},
   "source": [
    "After performing analysis of the data and number of calculations, i will asses the groups and their survivalbility. Moreover, I will adressed the questions I asked in the introduction, and I answered them based on the data, I also made some visualizations to help understanding the given numbers."
   ]
  },
  {
   "cell_type": "code",
   "execution_count": 668,
   "metadata": {
    "collapsed": false
   },
   "outputs": [
    {
     "data": {
      "text/plain": [
       "<seaborn.axisgrid.FacetGrid at 0x71e2bc18>"
      ]
     },
     "execution_count": 668,
     "metadata": {},
     "output_type": "execute_result"
    },
    {
     "data": {
      "image/png": "[encoded data removed]",
      "text/plain": [
       "<matplotlib.figure.Figure at 0x71e2b668>"
      ]
     },
     "metadata": {},
     "output_type": "display_data"
    }
   ],
   "source": [
    "#### Survivors overall\n",
    "titanic_df['Survivor']= titanic_df.Survived.map({0:'Deceased', 1:'Survived'})\n",
    "\n",
    "survivor_plot = sns.factorplot('Survivor', data=titanic_df, kind='count', palette=\"deep\")\n",
    "survivor_plot.despine(left=True)\n",
    "survivor_plot.set_ylabels(\"Count of passengers\")\n"
   ]
  },
  {
   "cell_type": "code",
   "execution_count": 675,
   "metadata": {
    "collapsed": false
   },
   "outputs": [
    {
     "data": {
      "text/plain": [
       "Deceased    549\n",
       "Survived    342\n",
       "Name: Survivor, dtype: int64"
      ]
     },
     "execution_count": 675,
     "metadata": {},
     "output_type": "execute_result"
    }
   ],
   "source": [
    "#Calculate number of survived and deceased passangers\n",
    "titanic_df['Survivor'].value_counts()"
   ]
  },
  {
   "cell_type": "markdown",
   "metadata": {},
   "source": [
    "#### Q1: Is there a difference on survival rate between passangers in regards to the age?"
   ]
  },
  {
   "cell_type": "code",
   "execution_count": 647,
   "metadata": {
    "collapsed": false
   },
   "outputs": [
    {
     "data": {
      "text/plain": [
       "[<matplotlib.text.Text at 0x24941e80>,\n",
       " [<matplotlib.text.Text at 0x38ab0a20>, <matplotlib.text.Text at 0x38ac8278>],\n",
       " <matplotlib.text.Text at 0xeb3d9e8>,\n",
       " <matplotlib.text.Text at 0x38ab0710>]"
      ]
     },
     "execution_count": 647,
     "metadata": {},
     "output_type": "execute_result"
    },
    {
     "data": {
      "image/png": "[encoded data removed]",
      "text/plain": [
       "<matplotlib.figure.Figure at 0xeb25cc0>"
      ]
     },
     "metadata": {},
     "output_type": "display_data"
    }
   ],
   "source": [
    "##### Create boxplot showing distribution of age vs survival\n",
    "survival.age_plot = sns.boxplot(data=titanic_df, x='Survived', y='Age')\n",
    "survival.age_plot.set(title='Age Distribution by Survival',\n",
    "            xlabel = 'Survival',\n",
    "            ylabel = 'Age distrinution',\n",
    "            xticklabels = ['Deceased', 'Survived'])"
   ]
  },
  {
   "cell_type": "code",
   "execution_count": 677,
   "metadata": {
    "collapsed": false
   },
   "outputs": [
    {
     "data": {
      "text/plain": [
       "Adults      779\n",
       "Children    113\n",
       "Name: is_child, dtype: int64"
      ]
     },
     "execution_count": 677,
     "metadata": {},
     "output_type": "execute_result"
    }
   ],
   "source": [
    "#Display count of adults and children\n",
    "titanic_df[\"is_child\"].value_counts()"
   ]
  },
  {
   "cell_type": "code",
   "execution_count": 625,
   "metadata": {
    "collapsed": false
   },
   "outputs": [
    {
     "name": "stdout",
     "output_type": "stream",
     "text": [
      "Survived by is_child\n",
      "Adults      281\n",
      "Children     61\n",
      "Name: Survived, dtype: int32\n",
      " \n",
      "Deceased by is_child\n",
      "Adults      497\n",
      "Children     52\n",
      "dtype: int32\n"
     ]
    }
   ],
   "source": [
    "# group the passengers that survived by is_child\n",
    "passengers_by_is_child = titanic_df.groupby(\"is_child\") \n",
    "# find total count\n",
    "total = passengers_by_is_child[\"is_child\"].count()\n",
    "# find total count of survived\n",
    "survived = passengers_by_is_child[\"Survived\"].sum().astype(int)\n",
    "# find total count of deceased\n",
    "deceased = (total - survived).astype(int)\n",
    "print \"Survived by\", survived\n",
    "print \" \"\n",
    "print \"Deceased by\", deceased"
   ]
  },
  {
   "cell_type": "code",
   "execution_count": 676,
   "metadata": {
    "collapsed": false
   },
   "outputs": [
    {
     "data": {
      "text/plain": [
       "[<matplotlib.text.Text at 0x6d7cd978>, <matplotlib.text.Text at 0x6d61e780>]"
      ]
     },
     "execution_count": 676,
     "metadata": {},
     "output_type": "execute_result"
    },
    {
     "data": {
      "image/png": "[encoded data removed]",
      "text/plain": [
       "<matplotlib.figure.Figure at 0x1682abe0>"
      ]
     },
     "metadata": {},
     "output_type": "display_data"
    }
   ],
   "source": [
    "##### Create histogram showing count of survived/deceased adults and children\n",
    "survival.is_child_plot = sns.countplot(x=\"Survivor\", hue=\"is_child\", data=titanic_df)\n",
    "survival.is_child_plot.set(xlabel='Survived by is_child', ylabel='Number of passengers')"
   ]
  },
  {
   "cell_type": "code",
   "execution_count": 678,
   "metadata": {
    "collapsed": false
   },
   "outputs": [
    {
     "data": {
      "text/plain": [
       "<function matplotlib.pyplot.show>"
      ]
     },
     "execution_count": 678,
     "metadata": {},
     "output_type": "execute_result"
    },
    {
     "data": {
      "image/png": "[encoded data removed]",
      "text/plain": [
       "<matplotlib.figure.Figure at 0x1fd86b38>"
      ]
     },
     "metadata": {},
     "output_type": "display_data"
    }
   ],
   "source": [
    "#Creating a bar plot of survived adults and children\n",
    "sns.set(style=\"darkgrid\")\n",
    "sns.barplot(data=titanic_df, x=\"is_child\", y=\"Survived\", palette=\"deep\",)\n",
    "sns.plt.show"
   ]
  },
  {
   "cell_type": "code",
   "execution_count": 450,
   "metadata": {
    "collapsed": false
   },
   "outputs": [],
   "source": [
    "#Create correlation function between two parameters x and y\n",
    "def correlation(x, y):\n",
    "    std_x = (x - x.mean()) / x.std(ddof=0)\n",
    "    std_y = (y - y.mean()) / y.std(ddof=0)\n",
    "\n",
    "    return (std_x * std_y).mean()"
   ]
  },
  {
   "cell_type": "code",
   "execution_count": 679,
   "metadata": {
    "collapsed": false
   },
   "outputs": [
    {
     "name": "stdout",
     "output_type": "stream",
     "text": [
      "Pearsons R for age vs. survival:  -0.0779826784139\n"
     ]
    }
   ],
   "source": [
    "age = titanic_df['Age']\n",
    "# Using correlation function show correlation between two variables - age and survival\n",
    "print \"Pearsons R for age vs. survival: \", correlation(age, survival)"
   ]
  },
  {
   "cell_type": "markdown",
   "metadata": {},
   "source": [
    "The boxplot is showing us that the mean of survived and deceased passangers is very close to each other. Calculation of Pearsons R for age vs. survival doesn't show  that there is very clear corelation."
   ]
  },
  {
   "cell_type": "markdown",
   "metadata": {},
   "source": [
    "### Q2: Is there a difference on survival rate between passangers in regards to the sex?"
   ]
  },
  {
   "cell_type": "code",
   "execution_count": 454,
   "metadata": {
    "collapsed": false
   },
   "outputs": [
    {
     "data": {
      "text/html": [
       "<div>\n",
       "<table border=\"1\" class=\"dataframe\">\n",
       "  <thead>\n",
       "    <tr style=\"text-align: right;\">\n",
       "      <th></th>\n",
       "      <th></th>\n",
       "      <th>Age</th>\n",
       "      <th>Fare</th>\n",
       "      <th>PClass</th>\n",
       "      <th>ParCh</th>\n",
       "      <th>PassengerId</th>\n",
       "      <th>SibSp</th>\n",
       "      <th>Survived</th>\n",
       "    </tr>\n",
       "    <tr>\n",
       "      <th>Sex</th>\n",
       "      <th></th>\n",
       "      <th></th>\n",
       "      <th></th>\n",
       "      <th></th>\n",
       "      <th></th>\n",
       "      <th></th>\n",
       "      <th></th>\n",
       "      <th></th>\n",
       "    </tr>\n",
       "  </thead>\n",
       "  <tbody>\n",
       "    <tr>\n",
       "      <th rowspan=\"8\" valign=\"top\">female</th>\n",
       "      <th>count</th>\n",
       "      <td>261.000000</td>\n",
       "      <td>314.000000</td>\n",
       "      <td>314.000000</td>\n",
       "      <td>314.000000</td>\n",
       "      <td>314.000000</td>\n",
       "      <td>314.000000</td>\n",
       "      <td>314.000000</td>\n",
       "    </tr>\n",
       "    <tr>\n",
       "      <th>mean</th>\n",
       "      <td>27.915709</td>\n",
       "      <td>44.479818</td>\n",
       "      <td>2.159236</td>\n",
       "      <td>0.649682</td>\n",
       "      <td>431.028662</td>\n",
       "      <td>0.694268</td>\n",
       "      <td>0.742038</td>\n",
       "    </tr>\n",
       "    <tr>\n",
       "      <th>std</th>\n",
       "      <td>14.110146</td>\n",
       "      <td>57.997698</td>\n",
       "      <td>0.857290</td>\n",
       "      <td>1.022846</td>\n",
       "      <td>256.846324</td>\n",
       "      <td>1.156520</td>\n",
       "      <td>0.438211</td>\n",
       "    </tr>\n",
       "    <tr>\n",
       "      <th>min</th>\n",
       "      <td>0.750000</td>\n",
       "      <td>6.750000</td>\n",
       "      <td>1.000000</td>\n",
       "      <td>0.000000</td>\n",
       "      <td>2.000000</td>\n",
       "      <td>0.000000</td>\n",
       "      <td>0.000000</td>\n",
       "    </tr>\n",
       "    <tr>\n",
       "      <th>25%</th>\n",
       "      <td>NaN</td>\n",
       "      <td>12.071875</td>\n",
       "      <td>1.000000</td>\n",
       "      <td>0.000000</td>\n",
       "      <td>231.750000</td>\n",
       "      <td>0.000000</td>\n",
       "      <td>0.000000</td>\n",
       "    </tr>\n",
       "    <tr>\n",
       "      <th>50%</th>\n",
       "      <td>NaN</td>\n",
       "      <td>23.000000</td>\n",
       "      <td>2.000000</td>\n",
       "      <td>0.000000</td>\n",
       "      <td>414.500000</td>\n",
       "      <td>0.000000</td>\n",
       "      <td>1.000000</td>\n",
       "    </tr>\n",
       "    <tr>\n",
       "      <th>75%</th>\n",
       "      <td>NaN</td>\n",
       "      <td>55.000000</td>\n",
       "      <td>3.000000</td>\n",
       "      <td>1.000000</td>\n",
       "      <td>641.250000</td>\n",
       "      <td>1.000000</td>\n",
       "      <td>1.000000</td>\n",
       "    </tr>\n",
       "    <tr>\n",
       "      <th>max</th>\n",
       "      <td>63.000000</td>\n",
       "      <td>512.329200</td>\n",
       "      <td>3.000000</td>\n",
       "      <td>6.000000</td>\n",
       "      <td>889.000000</td>\n",
       "      <td>8.000000</td>\n",
       "      <td>1.000000</td>\n",
       "    </tr>\n",
       "    <tr>\n",
       "      <th rowspan=\"8\" valign=\"top\">male</th>\n",
       "      <th>count</th>\n",
       "      <td>453.000000</td>\n",
       "      <td>577.000000</td>\n",
       "      <td>577.000000</td>\n",
       "      <td>577.000000</td>\n",
       "      <td>577.000000</td>\n",
       "      <td>577.000000</td>\n",
       "      <td>577.000000</td>\n",
       "    </tr>\n",
       "    <tr>\n",
       "      <th>mean</th>\n",
       "      <td>30.726645</td>\n",
       "      <td>25.523893</td>\n",
       "      <td>2.389948</td>\n",
       "      <td>0.235702</td>\n",
       "      <td>454.147314</td>\n",
       "      <td>0.429809</td>\n",
       "      <td>0.188908</td>\n",
       "    </tr>\n",
       "    <tr>\n",
       "      <th>std</th>\n",
       "      <td>14.678201</td>\n",
       "      <td>43.138263</td>\n",
       "      <td>0.813580</td>\n",
       "      <td>0.612294</td>\n",
       "      <td>257.486139</td>\n",
       "      <td>1.061811</td>\n",
       "      <td>0.391775</td>\n",
       "    </tr>\n",
       "    <tr>\n",
       "      <th>min</th>\n",
       "      <td>0.420000</td>\n",
       "      <td>0.000000</td>\n",
       "      <td>1.000000</td>\n",
       "      <td>0.000000</td>\n",
       "      <td>1.000000</td>\n",
       "      <td>0.000000</td>\n",
       "      <td>0.000000</td>\n",
       "    </tr>\n",
       "    <tr>\n",
       "      <th>25%</th>\n",
       "      <td>NaN</td>\n",
       "      <td>7.895800</td>\n",
       "      <td>2.000000</td>\n",
       "      <td>0.000000</td>\n",
       "      <td>222.000000</td>\n",
       "      <td>0.000000</td>\n",
       "      <td>0.000000</td>\n",
       "    </tr>\n",
       "    <tr>\n",
       "      <th>50%</th>\n",
       "      <td>NaN</td>\n",
       "      <td>10.500000</td>\n",
       "      <td>3.000000</td>\n",
       "      <td>0.000000</td>\n",
       "      <td>464.000000</td>\n",
       "      <td>0.000000</td>\n",
       "      <td>0.000000</td>\n",
       "    </tr>\n",
       "    <tr>\n",
       "      <th>75%</th>\n",
       "      <td>NaN</td>\n",
       "      <td>26.550000</td>\n",
       "      <td>3.000000</td>\n",
       "      <td>0.000000</td>\n",
       "      <td>680.000000</td>\n",
       "      <td>0.000000</td>\n",
       "      <td>0.000000</td>\n",
       "    </tr>\n",
       "    <tr>\n",
       "      <th>max</th>\n",
       "      <td>80.000000</td>\n",
       "      <td>512.329200</td>\n",
       "      <td>3.000000</td>\n",
       "      <td>5.000000</td>\n",
       "      <td>891.000000</td>\n",
       "      <td>8.000000</td>\n",
       "      <td>1.000000</td>\n",
       "    </tr>\n",
       "  </tbody>\n",
       "</table>\n",
       "</div>"
      ],
      "text/plain": [
       "                     Age        Fare      PClass       ParCh  PassengerId  \\\n",
       "Sex                                                                         \n",
       "female count  261.000000  314.000000  314.000000  314.000000   314.000000   \n",
       "       mean    27.915709   44.479818    2.159236    0.649682   431.028662   \n",
       "       std     14.110146   57.997698    0.857290    1.022846   256.846324   \n",
       "       min      0.750000    6.750000    1.000000    0.000000     2.000000   \n",
       "       25%           NaN   12.071875    1.000000    0.000000   231.750000   \n",
       "       50%           NaN   23.000000    2.000000    0.000000   414.500000   \n",
       "       75%           NaN   55.000000    3.000000    1.000000   641.250000   \n",
       "       max     63.000000  512.329200    3.000000    6.000000   889.000000   \n",
       "male   count  453.000000  577.000000  577.000000  577.000000   577.000000   \n",
       "       mean    30.726645   25.523893    2.389948    0.235702   454.147314   \n",
       "       std     14.678201   43.138263    0.813580    0.612294   257.486139   \n",
       "       min      0.420000    0.000000    1.000000    0.000000     1.000000   \n",
       "       25%           NaN    7.895800    2.000000    0.000000   222.000000   \n",
       "       50%           NaN   10.500000    3.000000    0.000000   464.000000   \n",
       "       75%           NaN   26.550000    3.000000    0.000000   680.000000   \n",
       "       max     80.000000  512.329200    3.000000    5.000000   891.000000   \n",
       "\n",
       "                   SibSp    Survived  \n",
       "Sex                                   \n",
       "female count  314.000000  314.000000  \n",
       "       mean     0.694268    0.742038  \n",
       "       std      1.156520    0.438211  \n",
       "       min      0.000000    0.000000  \n",
       "       25%      0.000000    0.000000  \n",
       "       50%      0.000000    1.000000  \n",
       "       75%      1.000000    1.000000  \n",
       "       max      8.000000    1.000000  \n",
       "male   count  577.000000  577.000000  \n",
       "       mean     0.429809    0.188908  \n",
       "       std      1.061811    0.391775  \n",
       "       min      0.000000    0.000000  \n",
       "       25%      0.000000    0.000000  \n",
       "       50%      0.000000    0.000000  \n",
       "       75%      0.000000    0.000000  \n",
       "       max      8.000000    1.000000  "
      ]
     },
     "execution_count": 454,
     "metadata": {},
     "output_type": "execute_result"
    }
   ],
   "source": [
    "passengers_by_sex = titanic_df.groupby(\"Sex\")\n",
    "passengers_by_sex.describe()"
   ]
  },
  {
   "cell_type": "code",
   "execution_count": 455,
   "metadata": {
    "collapsed": false
   },
   "outputs": [
    {
     "data": {
      "text/plain": [
       "<function matplotlib.pyplot.show>"
      ]
     },
     "execution_count": 455,
     "metadata": {},
     "output_type": "execute_result"
    },
    {
     "data": {
      "image/png": "[encoded data removed]",
      "text/plain": [
       "<matplotlib.figure.Figure at 0x209d9470>"
      ]
     },
     "metadata": {},
     "output_type": "display_data"
    }
   ],
   "source": [
    "#Creating a bar plot of survived males and females\n",
    "sns.set(style=\"darkgrid\")\n",
    "sns.barplot(data=titanic_df, x=\"Sex\", y=\"Survived\", palette=\"deep\")\n",
    "sns.plt.show"
   ]
  },
  {
   "cell_type": "code",
   "execution_count": 642,
   "metadata": {
    "collapsed": false
   },
   "outputs": [
    {
     "name": "stdout",
     "output_type": "stream",
     "text": [
      "Survived by Sex\n",
      "female    233\n",
      "male      109\n",
      "Name: Survived, dtype: int32\n",
      " \n",
      "Deceased by Sex\n",
      "female     81\n",
      "male      468\n",
      "Name: Survived, dtype: int32\n"
     ]
    }
   ],
   "source": [
    "# Find number of survived by gender\n",
    "survived = passengers_by_sex[\"Survived\"].sum().astype(int)\n",
    "# Find number of deceased by gender\n",
    "deceased = (total - survived).astype(int)\n",
    "print \"Survived by\", survived\n",
    "print \" \"\n",
    "print \"Deceased by\", deceased"
   ]
  },
  {
   "cell_type": "code",
   "execution_count": 460,
   "metadata": {
    "collapsed": false
   },
   "outputs": [
    {
     "data": {
      "text/plain": [
       "[<matplotlib.text.Text at 0x51c7a668>, <matplotlib.text.Text at 0x23e9bd68>]"
      ]
     },
     "execution_count": 460,
     "metadata": {},
     "output_type": "execute_result"
    },
    {
     "data": {
      "image/png": "[encoded data removed]",
      "text/plain": [
       "<matplotlib.figure.Figure at 0x3cc6e4a8>"
      ]
     },
     "metadata": {},
     "output_type": "display_data"
    }
   ],
   "source": [
    "#Creating a bar plot displaying number of survived/deceased males and females\n",
    "survival.sex_plot = sns.countplot(x=\"Survivor\", hue=\"Sex\", data=titanic_df)\n",
    "survival.sex_plot.set(xlabel='Passangers status', ylabel='Number of passengers')"
   ]
  },
  {
   "cell_type": "code",
   "execution_count": 639,
   "metadata": {
    "collapsed": false
   },
   "outputs": [
    {
     "name": "stdout",
     "output_type": "stream",
     "text": [
      "Procent of survived females =  74 %\n",
      "\n",
      "Procent of survived males =  18 %\n"
     ]
    }
   ],
   "source": [
    "#calculating % of survived females\n",
    "percent_survived_females = (survived[\"female\"] * 100) / total[\"female\"]\n",
    "print \"Procent of survived females = \", percent_survived_females, \"%\"\n",
    "print \"\"\n",
    "#calculating % of survived males\n",
    "percent_survived_males = (survived[\"male\"] * 100) / total[\"male\"]\n",
    "print \"Procent of survived males = \", percent_survived_males, \"%\""
   ]
  },
  {
   "cell_type": "markdown",
   "metadata": {},
   "source": [
    "From the analysis of the sex data we can conclude that females had much higher chance to survive Titanic catastrophe."
   ]
  },
  {
   "cell_type": "markdown",
   "metadata": {},
   "source": [
    "### Q3: Is there a difference on survival rate between passangers located in different classes?"
   ]
  },
  {
   "cell_type": "code",
   "execution_count": 686,
   "metadata": {
    "collapsed": false
   },
   "outputs": [
    {
     "data": {
      "text/html": [
       "<div>\n",
       "<table border=\"1\" class=\"dataframe\">\n",
       "  <thead>\n",
       "    <tr style=\"text-align: right;\">\n",
       "      <th></th>\n",
       "      <th></th>\n",
       "      <th>Age</th>\n",
       "      <th>Fare</th>\n",
       "      <th>ParCh</th>\n",
       "      <th>PassengerId</th>\n",
       "      <th>SibSp</th>\n",
       "      <th>Survived</th>\n",
       "    </tr>\n",
       "    <tr>\n",
       "      <th>PClass</th>\n",
       "      <th></th>\n",
       "      <th></th>\n",
       "      <th></th>\n",
       "      <th></th>\n",
       "      <th></th>\n",
       "      <th></th>\n",
       "      <th></th>\n",
       "    </tr>\n",
       "  </thead>\n",
       "  <tbody>\n",
       "    <tr>\n",
       "      <th rowspan=\"8\" valign=\"top\">1.0</th>\n",
       "      <th>count</th>\n",
       "      <td>186.000000</td>\n",
       "      <td>216.000000</td>\n",
       "      <td>216.000000</td>\n",
       "      <td>216.000000</td>\n",
       "      <td>216.000000</td>\n",
       "      <td>216.000000</td>\n",
       "    </tr>\n",
       "    <tr>\n",
       "      <th>mean</th>\n",
       "      <td>38.233441</td>\n",
       "      <td>84.154687</td>\n",
       "      <td>0.356481</td>\n",
       "      <td>461.597222</td>\n",
       "      <td>0.416667</td>\n",
       "      <td>0.629630</td>\n",
       "    </tr>\n",
       "    <tr>\n",
       "      <th>std</th>\n",
       "      <td>14.802856</td>\n",
       "      <td>78.380373</td>\n",
       "      <td>0.693997</td>\n",
       "      <td>246.737616</td>\n",
       "      <td>0.611898</td>\n",
       "      <td>0.484026</td>\n",
       "    </tr>\n",
       "    <tr>\n",
       "      <th>min</th>\n",
       "      <td>0.920000</td>\n",
       "      <td>0.000000</td>\n",
       "      <td>0.000000</td>\n",
       "      <td>2.000000</td>\n",
       "      <td>0.000000</td>\n",
       "      <td>0.000000</td>\n",
       "    </tr>\n",
       "    <tr>\n",
       "      <th>25%</th>\n",
       "      <td>NaN</td>\n",
       "      <td>30.923950</td>\n",
       "      <td>0.000000</td>\n",
       "      <td>270.750000</td>\n",
       "      <td>0.000000</td>\n",
       "      <td>0.000000</td>\n",
       "    </tr>\n",
       "    <tr>\n",
       "      <th>50%</th>\n",
       "      <td>NaN</td>\n",
       "      <td>60.287500</td>\n",
       "      <td>0.000000</td>\n",
       "      <td>472.000000</td>\n",
       "      <td>0.000000</td>\n",
       "      <td>1.000000</td>\n",
       "    </tr>\n",
       "    <tr>\n",
       "      <th>75%</th>\n",
       "      <td>NaN</td>\n",
       "      <td>93.500000</td>\n",
       "      <td>0.000000</td>\n",
       "      <td>670.500000</td>\n",
       "      <td>1.000000</td>\n",
       "      <td>1.000000</td>\n",
       "    </tr>\n",
       "    <tr>\n",
       "      <th>max</th>\n",
       "      <td>80.000000</td>\n",
       "      <td>512.329200</td>\n",
       "      <td>4.000000</td>\n",
       "      <td>890.000000</td>\n",
       "      <td>3.000000</td>\n",
       "      <td>1.000000</td>\n",
       "    </tr>\n",
       "    <tr>\n",
       "      <th rowspan=\"8\" valign=\"top\">2.0</th>\n",
       "      <th>count</th>\n",
       "      <td>173.000000</td>\n",
       "      <td>184.000000</td>\n",
       "      <td>184.000000</td>\n",
       "      <td>184.000000</td>\n",
       "      <td>184.000000</td>\n",
       "      <td>184.000000</td>\n",
       "    </tr>\n",
       "    <tr>\n",
       "      <th>mean</th>\n",
       "      <td>29.877630</td>\n",
       "      <td>20.662183</td>\n",
       "      <td>0.380435</td>\n",
       "      <td>445.956522</td>\n",
       "      <td>0.402174</td>\n",
       "      <td>0.472826</td>\n",
       "    </tr>\n",
       "    <tr>\n",
       "      <th>std</th>\n",
       "      <td>14.001077</td>\n",
       "      <td>13.417399</td>\n",
       "      <td>0.690963</td>\n",
       "      <td>250.852161</td>\n",
       "      <td>0.601633</td>\n",
       "      <td>0.500623</td>\n",
       "    </tr>\n",
       "    <tr>\n",
       "      <th>min</th>\n",
       "      <td>0.670000</td>\n",
       "      <td>0.000000</td>\n",
       "      <td>0.000000</td>\n",
       "      <td>10.000000</td>\n",
       "      <td>0.000000</td>\n",
       "      <td>0.000000</td>\n",
       "    </tr>\n",
       "    <tr>\n",
       "      <th>25%</th>\n",
       "      <td>NaN</td>\n",
       "      <td>13.000000</td>\n",
       "      <td>0.000000</td>\n",
       "      <td>234.500000</td>\n",
       "      <td>0.000000</td>\n",
       "      <td>0.000000</td>\n",
       "    </tr>\n",
       "    <tr>\n",
       "      <th>50%</th>\n",
       "      <td>NaN</td>\n",
       "      <td>14.250000</td>\n",
       "      <td>0.000000</td>\n",
       "      <td>435.500000</td>\n",
       "      <td>0.000000</td>\n",
       "      <td>0.000000</td>\n",
       "    </tr>\n",
       "    <tr>\n",
       "      <th>75%</th>\n",
       "      <td>NaN</td>\n",
       "      <td>26.000000</td>\n",
       "      <td>1.000000</td>\n",
       "      <td>668.000000</td>\n",
       "      <td>1.000000</td>\n",
       "      <td>1.000000</td>\n",
       "    </tr>\n",
       "    <tr>\n",
       "      <th>max</th>\n",
       "      <td>70.000000</td>\n",
       "      <td>73.500000</td>\n",
       "      <td>3.000000</td>\n",
       "      <td>887.000000</td>\n",
       "      <td>3.000000</td>\n",
       "      <td>1.000000</td>\n",
       "    </tr>\n",
       "    <tr>\n",
       "      <th rowspan=\"8\" valign=\"top\">3.0</th>\n",
       "      <th>count</th>\n",
       "      <td>355.000000</td>\n",
       "      <td>491.000000</td>\n",
       "      <td>491.000000</td>\n",
       "      <td>491.000000</td>\n",
       "      <td>491.000000</td>\n",
       "      <td>491.000000</td>\n",
       "    </tr>\n",
       "    <tr>\n",
       "      <th>mean</th>\n",
       "      <td>25.140620</td>\n",
       "      <td>13.675550</td>\n",
       "      <td>0.393075</td>\n",
       "      <td>439.154786</td>\n",
       "      <td>0.615071</td>\n",
       "      <td>0.242363</td>\n",
       "    </tr>\n",
       "    <tr>\n",
       "      <th>std</th>\n",
       "      <td>12.495398</td>\n",
       "      <td>11.778142</td>\n",
       "      <td>0.888861</td>\n",
       "      <td>264.441453</td>\n",
       "      <td>1.374883</td>\n",
       "      <td>0.428949</td>\n",
       "    </tr>\n",
       "    <tr>\n",
       "      <th>min</th>\n",
       "      <td>0.420000</td>\n",
       "      <td>0.000000</td>\n",
       "      <td>0.000000</td>\n",
       "      <td>1.000000</td>\n",
       "      <td>0.000000</td>\n",
       "      <td>0.000000</td>\n",
       "    </tr>\n",
       "    <tr>\n",
       "      <th>25%</th>\n",
       "      <td>NaN</td>\n",
       "      <td>7.750000</td>\n",
       "      <td>0.000000</td>\n",
       "      <td>200.000000</td>\n",
       "      <td>0.000000</td>\n",
       "      <td>0.000000</td>\n",
       "    </tr>\n",
       "    <tr>\n",
       "      <th>50%</th>\n",
       "      <td>NaN</td>\n",
       "      <td>8.050000</td>\n",
       "      <td>0.000000</td>\n",
       "      <td>432.000000</td>\n",
       "      <td>0.000000</td>\n",
       "      <td>0.000000</td>\n",
       "    </tr>\n",
       "    <tr>\n",
       "      <th>75%</th>\n",
       "      <td>NaN</td>\n",
       "      <td>15.500000</td>\n",
       "      <td>0.000000</td>\n",
       "      <td>666.500000</td>\n",
       "      <td>1.000000</td>\n",
       "      <td>0.000000</td>\n",
       "    </tr>\n",
       "    <tr>\n",
       "      <th>max</th>\n",
       "      <td>74.000000</td>\n",
       "      <td>69.550000</td>\n",
       "      <td>6.000000</td>\n",
       "      <td>891.000000</td>\n",
       "      <td>8.000000</td>\n",
       "      <td>1.000000</td>\n",
       "    </tr>\n",
       "  </tbody>\n",
       "</table>\n",
       "</div>"
      ],
      "text/plain": [
       "                     Age        Fare       ParCh  PassengerId       SibSp  \\\n",
       "PClass                                                                      \n",
       "1.0    count  186.000000  216.000000  216.000000   216.000000  216.000000   \n",
       "       mean    38.233441   84.154687    0.356481   461.597222    0.416667   \n",
       "       std     14.802856   78.380373    0.693997   246.737616    0.611898   \n",
       "       min      0.920000    0.000000    0.000000     2.000000    0.000000   \n",
       "       25%           NaN   30.923950    0.000000   270.750000    0.000000   \n",
       "       50%           NaN   60.287500    0.000000   472.000000    0.000000   \n",
       "       75%           NaN   93.500000    0.000000   670.500000    1.000000   \n",
       "       max     80.000000  512.329200    4.000000   890.000000    3.000000   \n",
       "2.0    count  173.000000  184.000000  184.000000   184.000000  184.000000   \n",
       "       mean    29.877630   20.662183    0.380435   445.956522    0.402174   \n",
       "       std     14.001077   13.417399    0.690963   250.852161    0.601633   \n",
       "       min      0.670000    0.000000    0.000000    10.000000    0.000000   \n",
       "       25%           NaN   13.000000    0.000000   234.500000    0.000000   \n",
       "       50%           NaN   14.250000    0.000000   435.500000    0.000000   \n",
       "       75%           NaN   26.000000    1.000000   668.000000    1.000000   \n",
       "       max     70.000000   73.500000    3.000000   887.000000    3.000000   \n",
       "3.0    count  355.000000  491.000000  491.000000   491.000000  491.000000   \n",
       "       mean    25.140620   13.675550    0.393075   439.154786    0.615071   \n",
       "       std     12.495398   11.778142    0.888861   264.441453    1.374883   \n",
       "       min      0.420000    0.000000    0.000000     1.000000    0.000000   \n",
       "       25%           NaN    7.750000    0.000000   200.000000    0.000000   \n",
       "       50%           NaN    8.050000    0.000000   432.000000    0.000000   \n",
       "       75%           NaN   15.500000    0.000000   666.500000    1.000000   \n",
       "       max     74.000000   69.550000    6.000000   891.000000    8.000000   \n",
       "\n",
       "                Survived  \n",
       "PClass                    \n",
       "1.0    count  216.000000  \n",
       "       mean     0.629630  \n",
       "       std      0.484026  \n",
       "       min      0.000000  \n",
       "       25%      0.000000  \n",
       "       50%      1.000000  \n",
       "       75%      1.000000  \n",
       "       max      1.000000  \n",
       "2.0    count  184.000000  \n",
       "       mean     0.472826  \n",
       "       std      0.500623  \n",
       "       min      0.000000  \n",
       "       25%      0.000000  \n",
       "       50%      0.000000  \n",
       "       75%      1.000000  \n",
       "       max      1.000000  \n",
       "3.0    count  491.000000  \n",
       "       mean     0.242363  \n",
       "       std      0.428949  \n",
       "       min      0.000000  \n",
       "       25%      0.000000  \n",
       "       50%      0.000000  \n",
       "       75%      0.000000  \n",
       "       max      1.000000  "
      ]
     },
     "execution_count": 686,
     "metadata": {},
     "output_type": "execute_result"
    }
   ],
   "source": [
    "passengers_by_class = titanic_df.groupby(\"PClass\")\n",
    "passengers_by_class.describe()"
   ]
  },
  {
   "cell_type": "code",
   "execution_count": 688,
   "metadata": {
    "collapsed": true
   },
   "outputs": [],
   "source": [
    "# group the passengers that survived by class\n",
    "passengers_by_class = titanic_df.groupby(\"PClass\") \n",
    "total = passengers_by_class[\"PClass\"].count()"
   ]
  },
  {
   "cell_type": "code",
   "execution_count": 689,
   "metadata": {
    "collapsed": false
   },
   "outputs": [
    {
     "name": "stdout",
     "output_type": "stream",
     "text": [
      "PClass\n",
      "1.0    216\n",
      "2.0    184\n",
      "3.0    491\n",
      "Name: PClass, dtype: int64\n",
      "\n",
      "\n",
      "Survived by PClass\n",
      "1.0    136\n",
      "2.0     87\n",
      "3.0    119\n",
      "Name: Survived, dtype: int32 \n",
      "Deceased by PClass\n",
      "1.0     80\n",
      "2.0     97\n",
      "3.0    372\n",
      "dtype: int32\n"
     ]
    }
   ],
   "source": [
    "\n",
    "#Total count of passangers in PClass\n",
    "print total\n",
    "print\"\"\n",
    "#Count of survived passangers embarked in different classes\n",
    "survived = passengers_by_class[\"Survived\"].sum().astype(int)\n",
    "print \"\"\n",
    "deceased = (total - survived).astype(int)\n",
    "print \"Survived by\", survived, \n",
    "print \"\"\n",
    "print \"Deceased by\", deceased, "
   ]
  },
  {
   "cell_type": "markdown",
   "metadata": {},
   "source": [
    "As we can see survived rate differs quite a lot between different classes. The first class passengers had the highest survival rate (63%), followed by the 2nd class (47%) and the 3rd class (24%)."
   ]
  },
  {
   "cell_type": "code",
   "execution_count": 697,
   "metadata": {
    "collapsed": false
   },
   "outputs": [
    {
     "data": {
      "text/plain": [
       "<matplotlib.legend.Legend at 0x3a6cf978>"
      ]
     },
     "execution_count": 697,
     "metadata": {},
     "output_type": "execute_result"
    },
    {
     "data": {
      "image/png": "[encoded data removed]",
      "text/plain": [
       "<matplotlib.figure.Figure at 0x7823f320>"
      ]
     },
     "metadata": {},
     "output_type": "display_data"
    }
   ],
   "source": [
    "survival.class_plot_total = passengers_by_class[\"Survived\"].count()\n",
    "survived = passengers_by_class[\"Survived\"].sum()\n",
    "survival.class_plot_total.plot(kind=\"bar\", color=\"b\", label=\"Not Survived\")\n",
    "survived.plot(kind=\"bar\", color=\"g\", label=\"Survived\")\n",
    "plt.xlabel('Class')\n",
    "plt.ylabel('Number of passangers')\n",
    "plt.title('Survival by Class')\n",
    "plt.legend(loc=2)"
   ]
  },
  {
   "cell_type": "markdown",
   "metadata": {},
   "source": [
    "As we can remember from the exploration part there were more men than female in the third class, which in the end limited the chances of survival of the passangers in the third class."
   ]
  },
  {
   "cell_type": "code",
   "execution_count": 712,
   "metadata": {
    "collapsed": false
   },
   "outputs": [
    {
     "data": {
      "text/plain": [
       "<seaborn.axisgrid.FacetGrid at 0x47cee828>"
      ]
     },
     "execution_count": 712,
     "metadata": {},
     "output_type": "execute_result"
    },
    {
     "data": {
      "image/png": "[encoded data removed]",
      "text/plain": [
       "<matplotlib.figure.Figure at 0x47cfa6d8>"
      ]
     },
     "metadata": {},
     "output_type": "display_data"
    }
   ],
   "source": [
    "#create boxplot of age distribution in classes 1,2,3 vs, survived and deceased\n",
    "sns.factorplot(kind='box',        # Boxplot\n",
    "               y='Age',           # Y-axis - values for boxplot\n",
    "               x='PClass',        # X-axis - first factor\n",
    "               hue='Survivor',    # Second factor denoted by color\n",
    "               data=titanic,      # Dataframe \n",
    "               size=8,            # Figure size (x100px)      \n",
    "               aspect=1.5,        # Width = size * aspect \n",
    "               legend_out=False)  # Make legend inside the plot"
   ]
  },
  {
   "cell_type": "markdown",
   "metadata": {},
   "source": [
    "Third-class and crew cabins were located in the hold, while promenade areas were on lower decks and in the quarter. They were separated from the promenade decks for wealthier passengers by special partitions – staircases leading to upper decks had metal gates, the keys to which were kept by stewards. Some sources claim that these partitions were required by American immigration laws at the time.The majority of passengers on the Titanic were emigrants. Only 25 percent of the Titanic’s third-class passengers survived, with small percentage of male. On the other hand we can observe high survival rate in the passangers in the first class. It also has to be taken into the account that there were quite big precent of woman in the first class.\n",
    "\n",
    "We can also observe from above displayed boxplots that younger people had slighty better chance to survive in classes 1,2,3.\n",
    "\n",
    "Third class was the group hardest hit by the disaster and experiencing the greatest loss of life. According to many sources the reasons for could be: first and second class given more importance, many did not understand the true magnitude of the disaster right after the collision with the Titanic, at least some of the third class gates remained locked, and many of the passengers that were non-English speaking did not understand."
   ]
  },
  {
   "cell_type": "markdown",
   "metadata": {},
   "source": [
    "### Q4: Is there a difference on survival rate between location of the embarkment of the passangers?"
   ]
  },
  {
   "cell_type": "code",
   "execution_count": 652,
   "metadata": {
    "collapsed": false
   },
   "outputs": [
    {
     "data": {
      "text/plain": [
       "<seaborn.axisgrid.FacetGrid at 0x6c4d7c18>"
      ]
     },
     "execution_count": 652,
     "metadata": {},
     "output_type": "execute_result"
    },
    {
     "data": {
      "image/png": "[encoded data removed]",
      "text/plain": [
       "<matplotlib.figure.Figure at 0x3c6639e8>"
      ]
     },
     "metadata": {},
     "output_type": "display_data"
    }
   ],
   "source": [
    "survival.embarked_plot = sns.factorplot('Embarked', hue = \"Survivor\", data=titanic_df, kind='count')\n",
    "survival.embarked_plot.despine(left=True)\n",
    "survival.embarked_plot.set_ylabels(\"Count of passengers\")"
   ]
  },
  {
   "cell_type": "markdown",
   "metadata": {},
   "source": [
    "Note:  C = Cherbourg; Q = Queenstown; S = Southampton"
   ]
  },
  {
   "cell_type": "code",
   "execution_count": 653,
   "metadata": {
    "collapsed": false
   },
   "outputs": [
    {
     "name": "stdout",
     "output_type": "stream",
     "text": [
      "Embarked\n",
      "C    168\n",
      "Q     77\n",
      "S    644\n",
      "Name: Embarked, dtype: int64\n",
      "\n",
      "\n",
      "Survived by Embarked\n",
      "C     93\n",
      "Q     30\n",
      "S    217\n",
      "Name: Survived, dtype: int32 \n",
      "\n",
      "Deceased by Embarked\n",
      "C     75\n",
      "Q     47\n",
      "S    427\n",
      "dtype: int32\n"
     ]
    }
   ],
   "source": [
    "# group the passengers that survived by gender\n",
    "passengers_by_embarked = titanic_df.groupby(\"Embarked\") \n",
    "# find the values and labels for the area circles\n",
    "total = passengers_by_embarked[\"Embarked\"].count()\n",
    "\n",
    "#Total count of passangers embarked in Cherbourg, Queenstown, Southampton\n",
    "print total\n",
    "print\"\"\n",
    "#Count of survived passangers embarked in Cherbourg, Queenstown, Southampton\n",
    "survived = passengers_by_embarked[\"Survived\"].sum().astype(int)\n",
    "print \"\"\n",
    "deceased = (total - survived).astype(int)\n",
    "print \"Survived by\", survived, \n",
    "print \"\"\n",
    "#Count of deceased passangers embarked in Cherbourg, Queenstown, Southampton\n",
    "print \"\"\n",
    "print \"Deceased by\", deceased, "
   ]
  },
  {
   "cell_type": "code",
   "execution_count": 654,
   "metadata": {
    "collapsed": false
   },
   "outputs": [
    {
     "name": "stdout",
     "output_type": "stream",
     "text": [
      "Procent of survived passangers embarked in Cherbourg =  55 %\n",
      "\n",
      "Procent of survived passangers embarked in Queenstown  =  38 %\n",
      "\n",
      "Procent of survived passangers embarked in Southampton =  33 %\n"
     ]
    }
   ],
   "source": [
    "#calculating % of survived by embarked location\n",
    "percent_survived_embarked = (survived[\"C\"] * 100) / total[\"C\"]\n",
    "print \"Procent of survived passangers embarked in Cherbourg = \", percent_survived_embarked, \"%\"\n",
    "print \"\"\n",
    "percent_survived_embarked = (survived[\"Q\"] * 100) / total[\"Q\"]\n",
    "print \"Procent of survived passangers embarked in Queenstown  = \", percent_survived_embarked, \"%\"\n",
    "print \"\"\n",
    "percent_survived_embarked = (survived[\"S\"] * 100) / total[\"S\"]\n",
    "print \"Procent of survived passangers embarked in Southampton = \", percent_survived_embarked, \"%\"\n"
   ]
  },
  {
   "cell_type": "markdown",
   "metadata": {},
   "source": [
    "### Q5: Is there a difference on survival rate between passangers located on different decks?"
   ]
  },
  {
   "cell_type": "code",
   "execution_count": 655,
   "metadata": {
    "collapsed": false
   },
   "outputs": [
    {
     "name": "stdout",
     "output_type": "stream",
     "text": [
      "Deck\n",
      "A     15\n",
      "B    114\n",
      "C    103\n",
      "D     36\n",
      "E     34\n",
      "F     17\n",
      "G     10\n",
      "T      1\n",
      "Name: Deck, dtype: int64\n",
      "\n",
      "\n",
      "Survived by Deck\n",
      "A     7\n",
      "B    88\n",
      "C    57\n",
      "D    28\n",
      "E    26\n",
      "F     9\n",
      "G     2\n",
      "T     0\n",
      "Name: Survived, dtype: int32 \n",
      "\n",
      "Deceased by Deck\n",
      "A     8\n",
      "B    26\n",
      "C    46\n",
      "D     8\n",
      "E     8\n",
      "F     8\n",
      "G     8\n",
      "T     1\n",
      "dtype: int32\n"
     ]
    }
   ],
   "source": [
    "#known_cabin_passengers[\"Deck\"].descibe()\n",
    "\n",
    "# group the passengers that survived by gender\n",
    "passengers_by_deck = known_cabin_passengers.groupby(\"Deck\") \n",
    "# find the values and labels for the area circles\n",
    "total = passengers_by_deck[\"Deck\"].count()\n",
    "\n",
    "#Total count of passangers embarked in Cherbourg, Queenstown, Southampton\n",
    "print total\n",
    "print\"\"\n",
    "#Count of survived passangers embarked in Cherbourg, Queenstown, Southampton\n",
    "survived = passengers_by_deck[\"Survived\"].sum().astype(int)\n",
    "print \"\"\n",
    "deceased = (total - survived).astype(int)\n",
    "print \"Survived by\", survived, \n",
    "print \"\"\n",
    "#Count of deceased passangers embarked in Cherbourg, Queenstown, Southampton\n",
    "print \"\"\n",
    "print \"Deceased by\", deceased, "
   ]
  },
  {
   "cell_type": "code",
   "execution_count": 606,
   "metadata": {
    "collapsed": false
   },
   "outputs": [
    {
     "name": "stdout",
     "output_type": "stream",
     "text": [
      "Procent of survived passangers on deck A =  46 %\n",
      "\n",
      "Procent of survived passangers on deck B =  75 %\n",
      "\n",
      "Procent of survived passangers on deck C =  57 %\n",
      "\n",
      "Procent of survived passangers on deck C =  76 %\n",
      "\n",
      "Procent of survived passangers on deck D =  76 %\n",
      "\n",
      "Procent of survived passangers on deck E =  75 %\n",
      "\n",
      "Procent of survived passangers on deck F =  61 %\n"
     ]
    }
   ],
   "source": [
    "#calculating % of survived by embarked location\n",
    "    \n",
    "percent_survived_deckA = (survived[\"A\"] * 100) / total[\"A\"]\n",
    "print \"Procent of survived passangers on deck A = \", percent_survived_deckA, \"%\"\n",
    "print \"\"\n",
    "percent_survived_deckB = (survived[\"B\"] * 100) / total[\"B\"]\n",
    "print \"Procent of survived passangers on deck B = \", percent_survived_deckB, \"%\"\n",
    "print \"\"\n",
    "percent_survived_deckC = (survived[\"C\"] * 100) / total[\"C\"]\n",
    "print \"Procent of survived passangers on deck C = \", percent_survived_deckC, \"%\"\n",
    "print \"\"\n",
    "percent_survived_deckD = (survived[\"D\"] * 100) / total[\"D\"]\n",
    "print \"Procent of survived passangers on deck C = \", percent_survived_deckD, \"%\"\n",
    "print \"\"\n",
    "percent_survived_deckD = (survived[\"D\"] * 100) / total[\"D\"]\n",
    "print \"Procent of survived passangers on deck D = \", percent_survived_deckD, \"%\"\n",
    "print \"\"\n",
    "percent_survived_deckE = (survived[\"E\"] * 100) / total[\"E\"]\n",
    "print \"Procent of survived passangers on deck E = \", percent_survived_deckE, \"%\"\n",
    "print \"\"\n",
    "percent_survived_deckF = (survived[\"F\"] * 100) / total[\"F\"]\n",
    "print \"Procent of survived passangers on deck F = \", percent_survived_deckF, \"%\"\n",
    "\n",
    "#No caluclation for Deck T as only 1 passanger present on that deck"
   ]
  },
  {
   "cell_type": "markdown",
   "metadata": {},
   "source": [
    "From above done analysis we can see that the least chance of survival had passngers located on deck A."
   ]
  },
  {
   "cell_type": "markdown",
   "metadata": {},
   "source": [
    "## Conclusions"
   ]
  },
  {
   "cell_type": "markdown",
   "metadata": {},
   "source": [
    "While using the Titanic dataset I found several limitations that made making deeper analysis more difficult and in some cases unreliable.\n",
    "\n",
    "Main conclusions:\n",
    "\n",
    "\n",
    "1. The number of surviving females (74%) exceeded the number of surviving males (18%) aboard RMS Titanic.\n",
    "2. The number of children survived in the disaster significantly exceeded the number of survived adults.\n",
    "3. Passsengers with age between 20 and 35 tended to survive the most. This is caused by the fact that the number of passanger in this age group was higher so i can not say that there is an actual correlation between age and survival rate.\n",
    "4. Passangers in the first class had higher chance of survival than from class two and three. Survival precent of passangers in classes were folowing: 1st: 63%, 2nd Class 47%,  3rd Class 24%.\n",
    "5. Passangers embarked in Cherbourg had higher chances of survival than passangers embarked in Queenstown or Southampton.\n",
    "6. Passangers located on Deck A had the lowest chances of survival.\n",
    "\n"
   ]
  },
  {
   "cell_type": "markdown",
   "metadata": {},
   "source": [
    "## References"
   ]
  },
  {
   "cell_type": "markdown",
   "metadata": {},
   "source": [
    "Additonal informations:\n",
    "\n",
    "* https://www.kaggle.com/c/titanic\n",
    "* https://en.wikipedia.org/wiki/Camel_case\n",
    "* https://en.wikipedia.org/wiki/Sinking_of_the_RMS_Titanic\n",
    "* https://sputniknews.com/analysis/20120329172424735/\n",
    "* https://alookthrutime.wordpress.com/2012/04/13/third-class-life-on-the-titanic/\n",
    "* https://en.wikipedia.org/wiki/Pearson_product-moment_correlation_coefficient\n",
    "\n",
    "Plots:\n",
    "* https://stanford.edu/~mwaskom/software/seaborn/generated/seaborn.barplot.html\n",
    "* https://stanford.edu/~mwaskom/software/seaborn/generated/seaborn.factorplot.html\n",
    "* http://stackoverflow.com/questions/25284859/grouping-boxplots-in-seaborn-when-input-is-a-dataframe\n",
    "* http://www.alexsalo.xyz/pretty-boxplots-python-matplotlib-pandas-seaborn/\n",
    "\n",
    "Pandas:\n",
    "* http://pandas.pydata.org/pandas-docs/stable/generated/pandas.DataFrame.count.html\n",
    "* http://stackoverflow.com/questions/23317342/pandas-dataframe-split-column-into-multiple-columns-right-align-inconsistent-c\n",
    "* http://pandas.pydata.org/pandas-docs/stable/generated/pandas.DataFrame.groupby.html\n",
    "\n",
    "Images:\n",
    "* https://upload.wikimedia.org/wikipedia/commons/e/e1/Titanic_under_construction.jpg\n",
    "* http://img07.deviantart.net/af19/i/2014/307/c/f/r_m_s__titanic_class_system_by_monroegerman-d787jna.png"
   ]
  }
 ],
 "metadata": {
  "anaconda-cloud": {},
  "kernelspec": {
   "display_name": "Python [conda root]",
   "language": "python",
   "name": "conda-root-py"
  },
  "language_info": {
   "codemirror_mode": {
    "name": "ipython",
    "version": 2
   },
   "file_extension": ".py",
   "mimetype": "text/x-python",
   "name": "python",
   "nbconvert_exporter": "python",
   "pygments_lexer": "ipython2",
   "version": "2.7.12"
  }
 },
 "nbformat": 4,
 "nbformat_minor": 0
}
